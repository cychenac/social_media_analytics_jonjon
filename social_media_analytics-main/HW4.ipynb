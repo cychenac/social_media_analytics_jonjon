{
 "cells": [
  {
   "cell_type": "markdown",
   "metadata": {
    "id": "RW-iNaf2lbrY"
   },
   "source": [
    "# Homework 4\n",
    "\n",
    "This notebook provides some skeleton code to get you started on the homework. Add in your own code and markdown cells to answer the homework questions. If you want to submit the notebook as a PDF, make sure your code and markdowns are clear and concise to make grading easy for the TAs.\n",
    "\n",
    "This notebook can be opened in Colab \n",
    "\n",
    "[![Open In Colab](https://colab.research.google.com/assets/colab-badge.svg)](https://colab.research.google.com/github/zlisto/social_media_analytics/blob/main/HW4.ipynb)\n",
    "\n",
    "\n",
    "\n",
    "Before starting, select \"Runtime->Factory reset runtime\" to start with your directories and environment in the base state.\n",
    "\n",
    "If you want to save changes to the notebook, select \"File->Save a copy in Drive\" from the top menu in Colab. This will save the notebook in your Google Drive."
   ]
  },
  {
   "cell_type": "markdown",
   "metadata": {
    "id": "1BZdzA2rlbrd"
   },
   "source": [
    "# Clones, Installs, Imports\n"
   ]
  },
  {
   "cell_type": "markdown",
   "metadata": {
    "id": "OmH5L7fYlbre"
   },
   "source": [
    "## Clone GitHub Repository\n",
    "This will clone the repository to your machine. This includes the code and data files. Then change into the directory of the repository."
   ]
  },
  {
   "cell_type": "code",
   "execution_count": null,
   "metadata": {
    "id": "7uM2AiOHlbrf"
   },
   "outputs": [],
   "source": [
    "!git clone https://github.com/zlisto/social_media_analytics\n",
    "\n",
    "import os\n",
    "os.chdir(\"social_media_analytics\")"
   ]
  },
  {
   "cell_type": "markdown",
   "metadata": {
    "id": "yAn0tAlFlbrg"
   },
   "source": [
    "## Install Packages"
   ]
  },
  {
   "cell_type": "code",
   "execution_count": null,
   "metadata": {
    "id": "hQX6nAj_lbrh"
   },
   "outputs": [],
   "source": [
    "!pip install -r requirements.txt\n"
   ]
  },
  {
   "cell_type": "markdown",
   "metadata": {
    "id": "MJQkODgylbrh"
   },
   "source": [
    "## Import Packages"
   ]
  },
  {
   "cell_type": "code",
   "execution_count": null,
   "metadata": {
    "id": "hngDRgVslbrh"
   },
   "outputs": [],
   "source": [
    "\n"
   ]
  },
  {
   "cell_type": "markdown",
   "metadata": {
    "id": "5XB35l8Dlbri"
   },
   "source": [
    "# Problem 1. Single User Time Series Analysis (44 points)\n",
    "\n",
    "We will study the posting times for the tweets of a Twitter user to better understand their behavior and interests.\n"
   ]
  },
  {
   "cell_type": "markdown",
   "metadata": {
    "id": "ep4zgIltlbrj"
   },
   "source": [
    "#### 1. (6 points) Load data\n",
    "\n",
    "Load the tweets in the file `\"data/HW4.db\"` into a dataframe. Then create a dataframe that contains only the tweets of screen name `\"KingJames\"`.  \n",
    "\n",
    "Print out the head of this dataframe so we know you did it right."
   ]
  },
  {
   "cell_type": "code",
   "execution_count": null,
   "metadata": {
    "id": "ZAnvb8OZlbrj"
   },
   "outputs": [],
   "source": []
  },
  {
   "cell_type": "markdown",
   "metadata": {
    "id": "QeGzQxGDlbrk"
   },
   "source": [
    "#### 2. (8 points) Datetime Column\n",
    "\n",
    "Add column `created_at_datetime` to the dataframe of the single user's tweets which is the `created_at` column converted to datetimes.  Then sort the data frame by the values in `created_at_datetime` in ascending order.  Print out the head and the tail of the dataframe's `created_at` column to make sure you sorted correctly (please don't print all the columns, it looks like a mess)."
   ]
  },
  {
   "cell_type": "code",
   "execution_count": null,
   "metadata": {
    "id": "dgp3dCpklbrl"
   },
   "outputs": [],
   "source": [
    "\n"
   ]
  },
  {
   "cell_type": "markdown",
   "metadata": {
    "id": "Sen-YCkalbrl"
   },
   "source": [
    "#### 3. (4 points) Mean Tweet Rate\n",
    "\n",
    "What is the mean tweet rate of the user in units of tweets per day? Use all of the tweets to calculate the rate.  Print out your answer to 2 decimal places (you will be penalized if you print out the wrong number of decimal places)."
   ]
  },
  {
   "cell_type": "code",
   "execution_count": null,
   "metadata": {
    "id": "-S7qjP2Nlbrl"
   },
   "outputs": [],
   "source": []
  },
  {
   "cell_type": "markdown",
   "metadata": {
    "id": "A4FGq9i6lbrm"
   },
   "source": [
    "#### 4. (10 points) Rolling Window Tweet Rate\n",
    "Calculate a rolling window estimate of the tweet rate.  Make sure you use the `created_at_datetime` column to calculate the windows and a `tweet_indicator` column to calculate the rate in the windows.  Use window sizes of 1 day and 7 days.  Add columns to your dataframe for the rate with each window size.  For example, the 1 day  rate column can be called `rate_1D`.  \n",
    "\n",
    "Plot the rolling average tweet rates for each window versus the `created_at_datetime` column in a single plot.  Make sure your axes have nice labels with easy to read fontsizes.  Also make sure you have a legend on your plot indicating the window size for each rate.  \n"
   ]
  },
  {
   "cell_type": "code",
   "execution_count": null,
   "metadata": {
    "id": "zRrlHMxTlbrm"
   },
   "outputs": [],
   "source": []
  },
  {
   "cell_type": "markdown",
   "metadata": {
    "id": "4oPNBzhZlbrn"
   },
   "source": [
    "#### 5. (12 points) Tweets During Peak Tweet Rate\n",
    "\n",
    "Find the datetime when the tweet rate with a 1 day window is maximal and call this value `tpeak`.  Print out what `tpeak` is.  Then make a word cloud of the tweets within a 24 hour window ending at `tpeak`.  \n",
    "\n",
    "\n",
    "What do you think was the reason for such a high tweet rate that day (you won't be penalized if you can't figure this out)?"
   ]
  },
  {
   "cell_type": "code",
   "execution_count": null,
   "metadata": {
    "id": "zs75hXBIlbrn"
   },
   "outputs": [],
   "source": []
  },
  {
   "cell_type": "markdown",
   "metadata": {
    "id": "gA8N6LVOlbro"
   },
   "source": [
    "September 13, 2021 was the opening day of the NFL season.  Lebron James was watching the Kansas City Chiefs versus the Cleveland Browns.  Lebron is from Cleveland."
   ]
  },
  {
   "cell_type": "markdown",
   "metadata": {
    "id": "GA5fTZYalbro"
   },
   "source": [
    "#### 6. (4 points) Histogram of Tweet Day of the Week\n",
    "Create a column in the dataframe called `day` which has the day of the week of each tweet.  Then make a histogram of the day of the user's tweets. Make sure to have nice axis labels."
   ]
  },
  {
   "cell_type": "code",
   "execution_count": null,
   "metadata": {
    "id": "W7PhPPNDlbro"
   },
   "outputs": [],
   "source": [
    "\n",
    "\n"
   ]
  },
  {
   "cell_type": "markdown",
   "metadata": {
    "id": "r_s3ocTPlbrp"
   },
   "source": [
    "# Problem 2. Geo-location with Tweet Times (30 points)\n",
    "\n",
    "Let's try to figure out where some Twitter users are located using the times they tweet. "
   ]
  },
  {
   "cell_type": "markdown",
   "metadata": {
    "id": "kDOh296Zlbrp"
   },
   "source": [
    "#### 1. (6 points) Load tweets\n",
    "\n",
    "Load the tweets in the file `data/HW4.db` into a dataframe.  Add a column called `created_at_datetime` to the dataframe that has each `created_at` value converted to a datetime object in the UTC time zone.  Then add a column to the dataframe called `hour` that has the hour of each tweet in the UTC time zone.  Print out the head of the dataframe so we know you did it right, and make sure the two columns you added are visible (use the column selection technique)."
   ]
  },
  {
   "cell_type": "code",
   "execution_count": null,
   "metadata": {
    "id": "40ItdUT8lbrp"
   },
   "outputs": [],
   "source": []
  },
  {
   "cell_type": "markdown",
   "metadata": {
    "id": "KC4OFCw5lbrp"
   },
   "source": [
    "#### 2. (4 points) Screen Names\n",
    "Print out the unique screen name of the users in the dataframe."
   ]
  },
  {
   "cell_type": "code",
   "execution_count": null,
   "metadata": {
    "id": "97HwCj5Elbrp",
    "scrolled": true
   },
   "outputs": [],
   "source": []
  },
  {
   "cell_type": "markdown",
   "metadata": {
    "id": "KA2GCk7Wlbrq"
   },
   "source": [
    "#### 3. (6 points)  Tweet Hour Histograms \n",
    "\n",
    "Make a histogram of the hour of each tweet for each user in the dataframe.  Title each histogram with the screen name of the user.  Make sure you have 24 bins going from 0 to 23.\n"
   ]
  },
  {
   "cell_type": "code",
   "execution_count": null,
   "metadata": {
    "id": "a39Xk5hVlbrq"
   },
   "outputs": [],
   "source": [
    " \n",
    "\n"
   ]
  },
  {
   "cell_type": "markdown",
   "metadata": {
    "id": "SERYkREjlbrq"
   },
   "source": [
    "#### 4. (10 points) Low Period Tweets\n",
    "\n",
    "Define a list called `low_hours` of the low period hours when people are sleeping.  You get to choose what these hours are.  Then find the UTC offset for each user so they have the minimum number of tweets in this `low_hours` period.  Print out the screen name and UTC offset for each user.  "
   ]
  },
  {
   "cell_type": "code",
   "execution_count": null,
   "metadata": {
    "id": "jBGSCttUlbrr"
   },
   "outputs": [],
   "source": [
    "\n",
    "    "
   ]
  },
  {
   "cell_type": "markdown",
   "metadata": {
    "id": "oWAN54tDlbrr"
   },
   "source": [
    "#### 5. (4 points)  Compare Estimate with True Location\n",
    "\n",
    "Look at each user's Twitter profile to see where they are located.  Did you estimate to correct timezone (UTC offset) for each user? Were you at least close?\n",
    "\n",
    "This link might be useful:\n",
    "\n",
    "https://www.timeanddate.com/time/map/\n"
   ]
  },
  {
   "cell_type": "code",
   "execution_count": null,
   "metadata": {
    "id": "Ckta0hBdlbrr"
   },
   "outputs": [],
   "source": []
  }
 ],
 "metadata": {
  "colab": {
   "collapsed_sections": [],
   "name": "HW4.ipynb",
   "provenance": [],
   "toc_visible": true
  },
  "kernelspec": {
   "display_name": "Python 3",
   "language": "python",
   "name": "python3"
  },
  "language_info": {
   "codemirror_mode": {
    "name": "ipython",
    "version": 3
   },
   "file_extension": ".py",
   "mimetype": "text/x-python",
   "name": "python",
   "nbconvert_exporter": "python",
   "pygments_lexer": "ipython3",
   "version": "3.7.2"
  }
 },
 "nbformat": 4,
 "nbformat_minor": 1
}
