{
 "cells": [
  {
   "cell_type": "markdown",
   "metadata": {
    "id": "CTtrdqGpCpIZ"
   },
   "source": [
    "# Homework 3\n",
    "This notebook provides some skeleton code to get you started on the homework. Add in your own code and markdown cells to answer the homework questions. If you want to submit the notebook as a PDF, make sure your code and markdowns are clear and concise to make grading easy for the TAs.\n",
    "\n",
    "This notebook can be opened in Colab \n",
    "[![Open In Colab](https://colab.research.google.com/assets/colab-badge.svg)](https://colab.research.google.com/github/zlisto/social_media_analytics/blob/main/HW3.ipynb)\n",
    "\n",
    "\n",
    "Before starting, select \"Runtime->Factory reset runtime\" to start with your directories and environment in the base state.\n",
    "\n",
    "If you want to save changes to the notebook, select \"File->Save a copy in Drive\" from the top menu in Colab. This will save the notebook in your Google Drive.\n",
    "\n",
    "\n",
    "\n"
   ]
  },
  {
   "cell_type": "markdown",
   "metadata": {
    "id": "k5rXUpY435Qu"
   },
   "source": [
    "# Clones, installs, imports, and **GPU**"
   ]
  },
  {
   "cell_type": "markdown",
   "metadata": {
    "id": "oueLSoDp4DL0"
   },
   "source": [
    "## Use GPU\n",
    "\n",
    "You can finish this assignment faster if you use a GPU."
   ]
  },
  {
   "cell_type": "code",
   "execution_count": null,
   "metadata": {
    "id": "1G8K9IpR4Gy_"
   },
   "outputs": [],
   "source": [
    "import tensorflow as tf\n",
    "tf.test.gpu_device_name()"
   ]
  },
  {
   "cell_type": "markdown",
   "metadata": {
    "id": "xxAnuxWhC8Dx"
   },
   "source": [
    "## Clone GitHub Repository\n",
    "This will clone the repository to your machine. This includes the code and data files. Then change into the directory of the repository."
   ]
  },
  {
   "cell_type": "code",
   "execution_count": null,
   "metadata": {
    "id": "nu5VjT4uC81x"
   },
   "outputs": [],
   "source": [
    "!git clone https://github.com/zlisto/social_media_analytics\n",
    "\n",
    "import os\n",
    "os.chdir(\"social_media_analytics\")"
   ]
  },
  {
   "cell_type": "markdown",
   "metadata": {
    "id": "BegaSlDr4WXx"
   },
   "source": [
    "## Install Packages"
   ]
  },
  {
   "cell_type": "code",
   "execution_count": null,
   "metadata": {
    "id": "jydjDi37C-5r"
   },
   "outputs": [],
   "source": [
    "!pip install -r requirements.txt\n"
   ]
  },
  {
   "cell_type": "markdown",
   "metadata": {
    "id": "bhvV8ImiCpIa"
   },
   "source": [
    "## Import Packages"
   ]
  },
  {
   "cell_type": "code",
   "execution_count": null,
   "metadata": {
    "id": "y3C8G8FfCpIa"
   },
   "outputs": [],
   "source": [
    "import pandas as pd\n",
    "import matplotlib.pyplot as plt\n",
    "import seaborn as sns\n",
    "import numpy as np\n",
    "\n",
    "import umap\n",
    "import scripts.TextAnalysis as ta\n",
    "from scripts.api import *\n",
    "from transformers import AutoTokenizer, AutoModelForSequenceClassification\n",
    "import codecs  #this let's us display tweets properly (emojis, etc.)\n",
    "\n",
    "import sklearn.cluster as cluster\n",
    "from sklearn.feature_extraction.text import CountVectorizer, TfidfVectorizer\n",
    "from scipy import stats\n",
    "\n",
    "from wordcloud import WordCloud, STOPWORDS, ImageColorGenerator\n",
    "pd.set_option(\"display.max_colwidth\", None)\n"
   ]
  },
  {
   "cell_type": "markdown",
   "metadata": {
    "id": "H92DV5YyCpIc"
   },
   "source": [
    "# Problem 1. Tweet Sentiment (35 points)\n",
    "\n",
    "\n"
   ]
  },
  {
   "cell_type": "markdown",
   "metadata": {
    "id": "DG9ifhLjCpIc"
   },
   "source": [
    "#### 1. (4 points) Load data\n",
    "\n",
    "Load the tweets in the file `\"data/Oreo.db\"` into a dataframe (remember to not write the `.db`). Then remove all columns except `\"screen_name\"`, `\"text\"`, and `\"retweet_count\"`.  Print out the head of this dataframe so we know you did it right."
   ]
  },
  {
   "cell_type": "code",
   "execution_count": null,
   "metadata": {
    "id": "2bxI5u3vCpId"
   },
   "outputs": [],
   "source": []
  },
  {
   "cell_type": "markdown",
   "metadata": {
    "id": "Atsr_qBkCpIe"
   },
   "source": [
    "#### 2. (15 points) Calculate sentiment \n",
    "\n",
    "Calculate the sentiment of tweets using the BERT model `\"nlptown/bert-base-multilingual-uncased-sentiment\"` that we used in class.  Make sure you use the GPU provided in Colab to make things faster.   \n",
    "\n",
    "Save the sentiments to a list `Sentiment`. Then add this list as a column to your tweet dataframe called `\"sentiment\"`.\n",
    "\n"
   ]
  },
  {
   "cell_type": "code",
   "execution_count": null,
   "metadata": {
    "id": "UQgB12S5CpIf"
   },
   "outputs": [],
   "source": []
  },
  {
   "cell_type": "markdown",
   "metadata": {
    "id": "blOMzPjMCpIh"
   },
   "source": [
    "#### 3. (2 points)  What is the mean opinion of the tweets?  Make sure you print out your answer."
   ]
  },
  {
   "cell_type": "code",
   "execution_count": null,
   "metadata": {
    "id": "xRaXWN9GCpIi"
   },
   "outputs": [],
   "source": []
  },
  {
   "cell_type": "markdown",
   "metadata": {
    "id": "x4SG1Fa5CpIi"
   },
   "source": [
    "#### 4. (4 points) Sentiment histogram\n",
    "\n",
    "Plot a histogram of the tweet sentiment using this `histplot` function.   Make sure to add axes labels and a title to the figure."
   ]
  },
  {
   "cell_type": "code",
   "execution_count": null,
   "metadata": {
    "id": "2-cuG6gLCpIi"
   },
   "outputs": [],
   "source": []
  },
  {
   "cell_type": "markdown",
   "metadata": {
    "id": "eUMTofBfCpIj"
   },
   "source": [
    "#### 5. (5 points) Most postive sentiment tweets\n",
    "\n",
    "Print out the text and sentiment of the five highest sentiment tweets.\n"
   ]
  },
  {
   "cell_type": "code",
   "execution_count": null,
   "metadata": {
    "id": "Kz_mlxfjCpIj"
   },
   "outputs": [],
   "source": []
  },
  {
   "cell_type": "markdown",
   "metadata": {
    "id": "RMaWTUjZCpIj"
   },
   "source": [
    "#### 6. (5 points)  Most negative sentiment tweets\n",
    "\n",
    "Print out the text and sentiment of the three lowest sentiment tweets."
   ]
  },
  {
   "cell_type": "code",
   "execution_count": null,
   "metadata": {
    "id": "GtkdJUWdCpIj",
    "scrolled": true
   },
   "outputs": [],
   "source": []
  },
  {
   "cell_type": "markdown",
   "metadata": {
    "id": "VnNytKv5CpIk"
   },
   "source": [
    "# Problem 2:  Clustering Tweets (32 points)"
   ]
  },
  {
   "cell_type": "markdown",
   "metadata": {
    "id": "AOeI4vbZCpIk"
   },
   "source": [
    "#### 1. (5 points)  Clean text\n",
    "\n",
    "Use the `text_clean` function to clean the tweet text in your dataframe.  Add a column to the tweet dataframe with the cleaned text.  Print the head of the dataframe so we know you did it right.\n",
    "\n",
    "Note: to avoid issues later in this assignment, don't remove cleaned tweets of length zero."
   ]
  },
  {
   "cell_type": "code",
   "execution_count": null,
   "metadata": {
    "id": "S95M7zB7CpIk"
   },
   "outputs": [],
   "source": []
  },
  {
   "cell_type": "markdown",
   "metadata": {
    "id": "YlRrCq2HCpIl"
   },
   "source": [
    "#### 2. (5 points) TF-IDF Embedding \n",
    "\n",
    "Calculate the term frequency inverse document frequency (tf-idf) embedding of the tweets. How big is the vocabulary?  Print your answer."
   ]
  },
  {
   "cell_type": "code",
   "execution_count": null,
   "metadata": {
    "id": "Ug8u4-vVCpIl"
   },
   "outputs": [],
   "source": []
  },
  {
   "cell_type": "markdown",
   "metadata": {
    "id": "KRdrElrYCpIl"
   },
   "source": [
    "#### 3. (8 points) UMAP TF-IDF Embedding\n",
    "\n",
    "Calculate the UMAP embedding of the tf-idf embedding.  Add columns to your dataframe called `\"umap_tfidf_x\"` and `\"umap_tfidf_y\"` for the x and y embedding coordinates."
   ]
  },
  {
   "cell_type": "code",
   "execution_count": null,
   "metadata": {
    "id": "rj_8wbyGCpIl"
   },
   "outputs": [],
   "source": []
  },
  {
   "cell_type": "markdown",
   "metadata": {
    "id": "w49WyEzZCpIm"
   },
   "source": [
    "#### 4. (14 points) K-means clusters\n",
    "\n",
    "Calculate the k-means clusters of the umap embedding using three clusters.  Add a column to the dataframe with the tweets called `\"kmeans_label_umap\"` that contains the k-means cluster labels. \n",
    "\n",
    "Make a histogram showing the number of tweets in each cluster with the `countplot` function.  Make sure to add axes labels and a title to the figure."
   ]
  },
  {
   "cell_type": "code",
   "execution_count": null,
   "metadata": {
    "id": "uMw7uBbgCpIm"
   },
   "outputs": [],
   "source": []
  },
  {
   "cell_type": "markdown",
   "metadata": {
    "id": "8sJkROoXCpIo"
   },
   "source": [
    "# Problem 3:  Clusters, Sentiment, and Retweet Count (27 points)\n",
    "\n",
    "Now we will look at the relationship between the sentiment, retweet count, and text in the clusters you found.  \n"
   ]
  },
  {
   "cell_type": "markdown",
   "metadata": {
    "id": "4-b3ur1OCpIo"
   },
   "source": [
    "#### 1. (6 points) Plot retweet count versus sentiment\n",
    "\n",
    "Create a column called `\"star\"` which is the sentiment column rounded to the nearest integer.  Make a barplot of the retweet count versus star value.  Make sure to add axes labels and a title to the figure."
   ]
  },
  {
   "cell_type": "code",
   "execution_count": null,
   "metadata": {
    "id": "l9XkTkROCpIo",
    "scrolled": false
   },
   "outputs": [],
   "source": []
  },
  {
   "cell_type": "markdown",
   "metadata": {
    "id": "ssjb4vKGCpIo"
   },
   "source": [
    "#### 3. (4 points) Plot sentiment per cluster\n",
    "\n",
    "Make a barplot of the mean sentiment of tweets in each k-means cluster.  Make sure to add axes labels and a title to the figure."
   ]
  },
  {
   "cell_type": "code",
   "execution_count": null,
   "metadata": {
    "id": "ygFkLZDeCpIp"
   },
   "outputs": [],
   "source": []
  },
  {
   "cell_type": "markdown",
   "metadata": {
    "id": "TRZb18tQCpIp"
   },
   "source": [
    "#### 4. (4 points) Plot retweet count per cluster\n",
    "\n",
    "Make a barplot of the mean rewteet count of tweets in each k-means cluster.   Make sure to add axes labels and a title to the figure."
   ]
  },
  {
   "cell_type": "code",
   "execution_count": null,
   "metadata": {
    "id": "ULoGoTRbCpIp"
   },
   "outputs": [],
   "source": []
  },
  {
   "cell_type": "markdown",
   "metadata": {
    "id": "Q-GKEuqUCpIp"
   },
   "source": [
    "#### 5. (8 points) Cluster word clouds\n",
    "\n",
    "Plot the word cloud for each cluster.  Don't forget to remove stopwords.  A `for` loop might be useful here."
   ]
  },
  {
   "cell_type": "code",
   "execution_count": null,
   "metadata": {
    "id": "MAOUjgWb4vMD"
   },
   "outputs": [],
   "source": []
  },
  {
   "cell_type": "markdown",
   "metadata": {
    "id": "QqU5egTFgRvA"
   },
   "source": [
    "#### 6. (5 points) Cluster analyis\n",
    "\n",
    "Print the text for some tweets in the cluster with the lowest sentiment (the `sample` function might be useful here).  What is the common theme of these tweets?"
   ]
  },
  {
   "cell_type": "code",
   "execution_count": null,
   "metadata": {
    "id": "q4bLvPmBiQIZ"
   },
   "outputs": [],
   "source": []
  }
 ],
 "metadata": {
  "accelerator": "GPU",
  "colab": {
   "collapsed_sections": [],
   "name": "HW3.ipynb",
   "provenance": [],
   "toc_visible": true
  },
  "kernelspec": {
   "display_name": "Python 3",
   "language": "python",
   "name": "python3"
  },
  "language_info": {
   "codemirror_mode": {
    "name": "ipython",
    "version": 3
   },
   "file_extension": ".py",
   "mimetype": "text/x-python",
   "name": "python",
   "nbconvert_exporter": "python",
   "pygments_lexer": "ipython3",
   "version": "3.7.2"
  }
 },
 "nbformat": 4,
 "nbformat_minor": 1
}
