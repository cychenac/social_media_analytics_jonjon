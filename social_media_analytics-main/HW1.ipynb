{
 "cells": [
  {
   "cell_type": "markdown",
   "metadata": {},
   "source": [
    "# Homework 1 \n",
    "\n",
    "This notebook provides some skeleton code to get you started on the homework.  Add in your own code and markdown cells  to answer the homework questions.  If you want to submit the notebook as a PDF, make sure your code and markdowns are clear and concise to make grading easy for the TAs.  \n",
    "This notebook can be opened in Colab \n",
    "[![Open In Colab](https://colab.research.google.com/assets/colab-badge.svg)](https://colab.research.google.com/github/zlisto/social_media_analytics/blob/main/HW1.ipynb)\n",
    "\n",
    "Before starting, select \"Runtime->Factory reset runtime\" to start with your directories and environment in the base state.\n",
    "\n",
    "If you want to save changes to the notebook, select \"File->Save a copy in Drive\" from the top menu in Colab.  This will save the notebook in your Google Drive.\n"
   ]
  },
  {
   "cell_type": "markdown",
   "metadata": {},
   "source": [
    "# Clone GitHub Repository\n",
    "This will clone the repository to your machine.  This includes the code and data files.  Then change into the directory of the repository."
   ]
  },
  {
   "cell_type": "code",
   "execution_count": null,
   "metadata": {},
   "outputs": [],
   "source": [
    "!git clone https://github.com/zlisto/social_media_analytics\n",
    "\n",
    "import os\n",
    "os.chdir(\"social_media_analytics\")"
   ]
  },
  {
   "cell_type": "code",
   "execution_count": null,
   "metadata": {},
   "outputs": [],
   "source": [
    "!pip install -r requirements.txt"
   ]
  },
  {
   "cell_type": "code",
   "execution_count": 1,
   "metadata": {},
   "outputs": [],
   "source": [
    "import pandas as pd\n",
    "import seaborn as sns\n",
    "import matplotlib.pyplot as plt\n",
    "\n",
    "from scripts.api import *\n",
    "\n",
    "\n",
    "#this option makes it so tweets display nicely in a dataframe\n",
    "pd.set_option(\"display.max_colwidth\", None)\n"
   ]
  },
  {
   "cell_type": "markdown",
   "metadata": {},
   "source": [
    "## Problem 1. Keyword Tweets\n",
    "\n",
    "We will look at a set of tweets based on a keyword search.  "
   ]
  },
  {
   "cell_type": "markdown",
   "metadata": {},
   "source": [
    "#### 1. (5 points) Load tweets\n",
    "\n",
    "Load the tweets into a dataframe and call it `df`. The tweets are in the file `\"data/HW1.db\"` in the table `\"keyword_tweets\"`. Print the head of the dataframe."
   ]
  },
  {
   "cell_type": "code",
   "execution_count": 1,
   "metadata": {},
   "outputs": [],
   "source": [
    "#Your answer here\n"
   ]
  },
  {
   "cell_type": "markdown",
   "metadata": {},
   "source": [
    "#### 2. (4 points) Guess the keyword\n",
    "\n",
    "Print out a random sample of five tweets.  Print out what your guess is for the keyword these tweets are based on."
   ]
  },
  {
   "cell_type": "code",
   "execution_count": 2,
   "metadata": {},
   "outputs": [],
   "source": [
    "#Your answer here\n",
    "\n"
   ]
  },
  {
   "cell_type": "markdown",
   "metadata": {},
   "source": [
    "#### 3. (10 points) Searching the tweets\n",
    "\n",
    "Find all tweets that contain the word \"beautiful\". Print out a random sample of the **screen name, text, and retweet** count of five of these tweets (this means select the appropriate columns and print your sample tweets)\n",
    "\n"
   ]
  },
  {
   "cell_type": "code",
   "execution_count": 3,
   "metadata": {},
   "outputs": [],
   "source": [
    "#Your answer here\n"
   ]
  },
  {
   "cell_type": "markdown",
   "metadata": {},
   "source": [
    "#### 4.  (2 points) Count tweets\n",
    "\n",
    "How many tweets contain the word \"beautiful\"?\n",
    "\n"
   ]
  },
  {
   "cell_type": "code",
   "execution_count": 4,
   "metadata": {},
   "outputs": [],
   "source": [
    "#Your answer here\n"
   ]
  },
  {
   "cell_type": "markdown",
   "metadata": {},
   "source": [
    "#### 5.  (10 points) Sort the tweets\n",
    "\n",
    "Sort the tweets by like count. Print out the screen name, text, and like count of the top five tweets in descending order (only print these three columns).\n",
    "\n"
   ]
  },
  {
   "cell_type": "code",
   "execution_count": 5,
   "metadata": {},
   "outputs": [],
   "source": [
    "#Your answer here\n"
   ]
  },
  {
   "cell_type": "markdown",
   "metadata": {},
   "source": [
    "#### 6.  (10 points) Like count means\n",
    "\n",
    "What is the mean like count of all of the tweets?  \n",
    "What is the mean like count of tweets that contain the word \"beautiful\" (this is a bit tricky)? \n",
    "\n",
    "Make sure you print out your answers.\n",
    "\n",
    "\n"
   ]
  },
  {
   "cell_type": "code",
   "execution_count": 6,
   "metadata": {},
   "outputs": [],
   "source": [
    "#Your answer here\n"
   ]
  },
  {
   "cell_type": "markdown",
   "metadata": {},
   "source": [
    "## Problem 2.  User Profiles\n",
    "\n",
    "In this question we will analyze some Twitter user profiles."
   ]
  },
  {
   "cell_type": "markdown",
   "metadata": {},
   "source": [
    "#### 1. (5 points) Load profiles\n",
    "\n",
    "Load the profiles into a dataframe and call it `df_u`. The tweets are in the file `\"data/HW1.db\"` in the table `\"users\"`.  Print the head of the dataframe."
   ]
  },
  {
   "cell_type": "code",
   "execution_count": 7,
   "metadata": {},
   "outputs": [],
   "source": [
    "#Your answer here\n"
   ]
  },
  {
   "cell_type": "markdown",
   "metadata": {},
   "source": [
    "#### 3. (10 points)   Follower count and profiles\n",
    "\n",
    "What is the mean follower count of all users?\n",
    "\n",
    "What is the mean follower count of all users whose profile description (column is called `\"description\"`) contains the word \"love\"? \n",
    "\n",
    "Print out your answers."
   ]
  },
  {
   "cell_type": "code",
   "execution_count": 8,
   "metadata": {},
   "outputs": [],
   "source": [
    "#Your answer here\n"
   ]
  },
  {
   "cell_type": "markdown",
   "metadata": {},
   "source": [
    "# Problem 3. User Tweets"
   ]
  },
  {
   "cell_type": "markdown",
   "metadata": {},
   "source": [
    "#### 1. (5 points) Load user tweets\n",
    "\n",
    "Load the user tweets into a dataframe and call it `df_ut`. The tweets are in the file `\"data/HW1.db\"` in the table `\"user_tweets\"`.  Print a random sample of five tweets from the dataframe."
   ]
  },
  {
   "cell_type": "code",
   "execution_count": 9,
   "metadata": {},
   "outputs": [],
   "source": [
    "#Your answer here\n"
   ]
  },
  {
   "cell_type": "markdown",
   "metadata": {},
   "source": [
    "#### 2. ( 6 points) Mean like count\n",
    "\n",
    "Calculate the mean like count of each user in the user tweets dataset.  Use the `groupby` function.\n"
   ]
  },
  {
   "cell_type": "code",
   "execution_count": 10,
   "metadata": {},
   "outputs": [],
   "source": [
    "#Your answer here\n"
   ]
  },
  {
   "cell_type": "markdown",
   "metadata": {},
   "source": [
    "#### 3. ( 9 points) Barplot of like counts\n",
    "\n",
    "Make a bar plot of the like counts of each user.  Be sure to put nice, easy to read labels on the axes and a descriptive title on the plot.  For full credit, make it look like the plot in lecture.\n"
   ]
  },
  {
   "cell_type": "code",
   "execution_count": 11,
   "metadata": {},
   "outputs": [],
   "source": [
    "#Your answer here\n"
   ]
  },
  {
   "cell_type": "markdown",
   "metadata": {},
   "source": [
    "#### 4. ( 6 points) Ratioed\n",
    "\n",
    "A tweet is said to be \"ratioed\" when it has more replies than likes.  Add a column to the user tweets dataframe called `\"ratio\"` that is equal to the reply count divided by the like count. \n",
    "Use the `describe` function to print out the summary statistics of the `\"ratio\"` column.\n",
    "\n",
    "Check here for help: https://www.datasciencelearner.com/divide-two-columns-in-pandas-methods/#:~:text=The%20second%20method%20to%20divide,division%20is%20done%20column%2Dwise."
   ]
  },
  {
   "cell_type": "code",
   "execution_count": 12,
   "metadata": {},
   "outputs": [],
   "source": [
    "#Your answer here\n",
    "\n"
   ]
  },
  {
   "cell_type": "markdown",
   "metadata": {},
   "source": [
    "#### 5. ( 9 points) Ratio Boxplot\n",
    "\n",
    "A boxplot shows the quantile values of data. Make a boxplot of the `\"ratio\"` column versus `\"screen_name\"` using the `boxplot` function in Seaborn.  This is similar to the `barplot` function you learned in class.   Be sure to put nice, easy to read labels on the axes and a descriptive title on the plot.\n",
    "\n",
    "Details on the `boxplot` function are here:  https://pythonbasics.org/seaborn-boxplot/\n"
   ]
  },
  {
   "cell_type": "code",
   "execution_count": 13,
   "metadata": {},
   "outputs": [],
   "source": [
    "#Your answer here\n"
   ]
  },
  {
   "cell_type": "markdown",
   "metadata": {},
   "source": [
    "#### 5. ( 10 points) Most Ratioed Tweet\n",
    "\n",
    "Print out the screen name, reply count, like count, and text of the five tweets with the highest value of the ratio.\n"
   ]
  },
  {
   "cell_type": "code",
   "execution_count": 14,
   "metadata": {},
   "outputs": [],
   "source": [
    "#Your answer here\n"
   ]
  },
  {
   "cell_type": "markdown",
   "metadata": {},
   "source": [
    "# Save Notebook to HTML\n",
    "\n",
    "This last line will let you save the notebook and all of its outputs to an HTML file.  You can download this file to your computer from Colab and then print it to a PDF using ctrl+P."
   ]
  },
  {
   "cell_type": "code",
   "execution_count": null,
   "metadata": {},
   "outputs": [],
   "source": [
    "!jupyter nbconvert --to html <notebook_path>"
   ]
  }
 ],
 "metadata": {
  "kernelspec": {
   "display_name": "Python 3",
   "language": "python",
   "name": "python3"
  },
  "language_info": {
   "codemirror_mode": {
    "name": "ipython",
    "version": 3
   },
   "file_extension": ".py",
   "mimetype": "text/x-python",
   "name": "python",
   "nbconvert_exporter": "python",
   "pygments_lexer": "ipython3",
   "version": "3.7.2"
  }
 },
 "nbformat": 4,
 "nbformat_minor": 2
}
