{
  "cells": [
    {
      "cell_type": "markdown",
      "metadata": {
        "id": "cSqGWIIuUugh"
      },
      "source": [
        "# Lecture 19 - A/B Testing\n",
        "\n",
        "This notebook will show you how to perform A/B testing on Twitter data.\n",
        "\n",
        "Below is the overview of this notebook.\n",
        "\n",
        "<ol type = 1>\n",
        "    <li> Retweet Count vs Keyword</li>\n",
        "    <ol type = 1>\n",
        "      <li> Z-test</li>\n",
        "      <li> T-test</li>\n",
        "      <li> Mann-Whitney U test</li>\n",
        "      <li> Kolmogorov- Smirnov test</li>\n",
        "      <li> Testing Multiple Hypotheses</li>\n",
        "    </ol>\n",
        "    <li> Comparing User Language</li>\n",
        "    <ol type = 1>\n",
        "      <li> Fisher Exact Test</li>\n",
        "    </ol>\n",
        "    <li> Correlation Coefficients</li>\n",
        "    <ol type = 1>\n",
        "         <li> Pearson Correlation Coefficient</li>\n",
        "        <li> Spearman Correlation Coefficient</li>\n",
        "    </ol>\n",
        "    <li> Follower Engagement</li>\n",
        "    <li> Tweet Time</li>\n",
        "\n",
        "</ol>\n",
        "\n",
        "This notebook can be opened in Colab \n",
        "[![Open In Colab](https://colab.research.google.com/assets/colab-badge.svg)](https://colab.research.google.com/github/zlisto/social_media_analytics/blob/main/Lecture19_ABTesting.ipynb)\n",
        "\n",
        "Before starting, select \"Runtime->Factory reset runtime\" to start with your directories and environment in the base state.\n",
        "\n",
        "If you want to save changes to the notebook, select \"File->Save a copy in Drive\" from the top menu in Colab.  This will save the notebook in your Google Drive.\n",
        "\n",
        "\n"
      ]
    },
    {
      "cell_type": "markdown",
      "metadata": {
        "id": "pKSDBIusUugo"
      },
      "source": [
        "# Clones, installs, and imports\n"
      ]
    },
    {
      "cell_type": "markdown",
      "metadata": {
        "id": "qYIOIn7CUugp"
      },
      "source": [
        "## Clone GitHub Repository\n",
        "This will clone the repository to your machine.  This includes the code and data files.  Then change into the directory of the repository."
      ]
    },
    {
      "cell_type": "code",
      "execution_count": null,
      "metadata": {
        "colab": {
          "base_uri": "https://localhost:8080/"
        },
        "id": "GQUHZuhOUugp",
        "outputId": "57cbf8ec-0885-4d3a-a6f9-94e5681cd5ea"
      },
      "outputs": [
        {
          "output_type": "stream",
          "name": "stdout",
          "text": [
            "Cloning into 'social_media_analytics'...\n",
            "remote: Enumerating objects: 475, done.\u001b[K\n",
            "remote: Counting objects: 100% (40/40), done.\u001b[K\n",
            "remote: Compressing objects: 100% (34/34), done.\u001b[K\n",
            "remote: Total 475 (delta 17), reused 24 (delta 6), pack-reused 435\u001b[K\n",
            "Receiving objects: 100% (475/475), 52.54 MiB | 14.00 MiB/s, done.\n",
            "Resolving deltas: 100% (249/249), done.\n",
            "Updating files: 100% (56/56), done.\n"
          ]
        }
      ],
      "source": [
        "!git clone https://github.com/zlisto/social_media_analytics\n",
        "\n",
        "import os\n",
        "os.chdir(\"social_media_analytics\")"
      ]
    },
    {
      "cell_type": "markdown",
      "metadata": {
        "id": "izgLEdO9Uugq"
      },
      "source": [
        "## Install Requirements \n"
      ]
    },
    {
      "cell_type": "code",
      "execution_count": null,
      "metadata": {
        "colab": {
          "base_uri": "https://localhost:8080/"
        },
        "id": "NeCVIrDzUugr",
        "outputId": "6d5c822e-f625-41bf-9609-9e329d30e148"
      },
      "outputs": [
        {
          "output_type": "stream",
          "name": "stdout",
          "text": [
            "\u001b[2K     \u001b[90m━━━━━━━━━━━━━━━━━━━━━━━━━━━━━━━━━━━━━━━━\u001b[0m \u001b[32m1.6/1.6 MB\u001b[0m \u001b[31m6.1 MB/s\u001b[0m eta \u001b[36m0:00:00\u001b[0m\n",
            "\u001b[2K     \u001b[90m━━━━━━━━━━━━━━━━━━━━━━━━━━━━━━━━━━━━━━━━\u001b[0m \u001b[32m58.3/58.3 KB\u001b[0m \u001b[31m3.1 MB/s\u001b[0m eta \u001b[36m0:00:00\u001b[0m\n",
            "\u001b[2K     \u001b[90m━━━━━━━━━━━━━━━━━━━━━━━━━━━━━━━━━━━━━━━━\u001b[0m \u001b[32m1.9/1.9 MB\u001b[0m \u001b[31m28.2 MB/s\u001b[0m eta \u001b[36m0:00:00\u001b[0m\n",
            "\u001b[2K     \u001b[90m━━━━━━━━━━━━━━━━━━━━━━━━━━━━━━━━━━━━━━━━\u001b[0m \u001b[32m6.7/6.7 MB\u001b[0m \u001b[31m24.7 MB/s\u001b[0m eta \u001b[36m0:00:00\u001b[0m\n",
            "\u001b[2K     \u001b[90m━━━━━━━━━━━━━━━━━━━━━━━━━━━━━━━━━━━━━━━━\u001b[0m \u001b[32m88.2/88.2 KB\u001b[0m \u001b[31m3.9 MB/s\u001b[0m eta \u001b[36m0:00:00\u001b[0m\n",
            "\u001b[?25h  Preparing metadata (setup.py) ... \u001b[?25l\u001b[?25hdone\n",
            "\u001b[2K     \u001b[90m━━━━━━━━━━━━━━━━━━━━━━━━━━━━━━━━━━━━━━━━\u001b[0m \u001b[32m1.6/1.6 MB\u001b[0m \u001b[31m13.5 MB/s\u001b[0m eta \u001b[36m0:00:00\u001b[0m\n",
            "\u001b[?25h  Preparing metadata (setup.py) ... \u001b[?25l\u001b[?25hdone\n",
            "  Preparing metadata (setup.py) ... \u001b[?25l\u001b[?25hdone\n",
            "\u001b[2K     \u001b[90m━━━━━━━━━━━━━━━━━━━━━━━━━━━━━━━━━━━━━━━━\u001b[0m \u001b[32m70.1/70.1 KB\u001b[0m \u001b[31m6.3 MB/s\u001b[0m eta \u001b[36m0:00:00\u001b[0m\n",
            "\u001b[2K     \u001b[90m━━━━━━━━━━━━━━━━━━━━━━━━━━━━━━━━━━━━━━━━\u001b[0m \u001b[32m2.0/2.0 MB\u001b[0m \u001b[31m38.1 MB/s\u001b[0m eta \u001b[36m0:00:00\u001b[0m\n",
            "\u001b[2K     \u001b[90m━━━━━━━━━━━━━━━━━━━━━━━━━━━━━━━━━━━━━━\u001b[0m \u001b[32m199.2/199.2 KB\u001b[0m \u001b[31m20.3 MB/s\u001b[0m eta \u001b[36m0:00:00\u001b[0m\n",
            "\u001b[2K     \u001b[90m━━━━━━━━━━━━━━━━━━━━━━━━━━━━━━━━━━━━━━━━\u001b[0m \u001b[32m7.6/7.6 MB\u001b[0m \u001b[31m82.2 MB/s\u001b[0m eta \u001b[36m0:00:00\u001b[0m\n",
            "\u001b[2K     \u001b[90m━━━━━━━━━━━━━━━━━━━━━━━━━━━━━━━━━━━━━━━━\u001b[0m \u001b[32m1.1/1.1 MB\u001b[0m \u001b[31m68.9 MB/s\u001b[0m eta \u001b[36m0:00:00\u001b[0m\n",
            "\u001b[?25h  Preparing metadata (setup.py) ... \u001b[?25l\u001b[?25hdone\n",
            "\u001b[2K     \u001b[90m━━━━━━━━━━━━━━━━━━━━━━━━━━━━━━━━━━━━━━━━\u001b[0m \u001b[32m1.0/1.0 MB\u001b[0m \u001b[31m59.3 MB/s\u001b[0m eta \u001b[36m0:00:00\u001b[0m\n",
            "\u001b[2K     \u001b[90m━━━━━━━━━━━━━━━━━━━━━━━━━━━━━━━━━━━━━━\u001b[0m \u001b[32m184.3/184.3 KB\u001b[0m \u001b[31m21.3 MB/s\u001b[0m eta \u001b[36m0:00:00\u001b[0m\n",
            "\u001b[2K     \u001b[90m━━━━━━━━━━━━━━━━━━━━━━━━━━━━━━━━━━━━━━\u001b[0m \u001b[32m189.1/189.1 KB\u001b[0m \u001b[31m21.1 MB/s\u001b[0m eta \u001b[36m0:00:00\u001b[0m\n",
            "\u001b[?25h  Preparing metadata (setup.py) ... \u001b[?25l\u001b[?25hdone\n",
            "\u001b[2K     \u001b[90m━━━━━━━━━━━━━━━━━━━━━━━━━━━━━━━━━━━━━━━━\u001b[0m \u001b[32m62.7/62.7 KB\u001b[0m \u001b[31m6.5 MB/s\u001b[0m eta \u001b[36m0:00:00\u001b[0m\n",
            "\u001b[2K     \u001b[90m━━━━━━━━━━━━━━━━━━━━━━━━━━━━━━━━━━━━━━\u001b[0m \u001b[32m264.6/264.6 KB\u001b[0m \u001b[31m25.7 MB/s\u001b[0m eta \u001b[36m0:00:00\u001b[0m\n",
            "\u001b[2K     \u001b[90m━━━━━━━━━━━━━━━━━━━━━━━━━━━━━━━━━━━━━━\u001b[0m \u001b[32m114.2/114.2 KB\u001b[0m \u001b[31m13.0 MB/s\u001b[0m eta \u001b[36m0:00:00\u001b[0m\n",
            "\u001b[2K     \u001b[90m━━━━━━━━━━━━━━━━━━━━━━━━━━━━━━━━━━━━━━\u001b[0m \u001b[32m158.8/158.8 KB\u001b[0m \u001b[31m19.7 MB/s\u001b[0m eta \u001b[36m0:00:00\u001b[0m\n",
            "\u001b[?25h  Building wheel for pyLDAvis (setup.py) ... \u001b[?25l\u001b[?25hdone\n",
            "  Building wheel for umap-learn (setup.py) ... \u001b[?25l\u001b[?25hdone\n",
            "  Building wheel for sklearn (setup.py) ... \u001b[?25l\u001b[?25hdone\n",
            "  Building wheel for pynndescent (setup.py) ... \u001b[?25l\u001b[?25hdone\n",
            "  Building wheel for pathtools (setup.py) ... \u001b[?25l\u001b[?25hdone\n"
          ]
        }
      ],
      "source": [
        "!pip install -r requirements.txt --quiet\n"
      ]
    },
    {
      "cell_type": "markdown",
      "metadata": {
        "id": "hbFYqu96Uugr"
      },
      "source": [
        "## Import Packages\n",
        "\n"
      ]
    },
    {
      "cell_type": "code",
      "execution_count": null,
      "metadata": {
        "id": "06ZqGM1RUugs"
      },
      "outputs": [],
      "source": [
        "from datetime import datetime, timedelta\n",
        "import numpy as np\n",
        "import sqlite3, sys, os\n",
        "import pandas as pd\n",
        "import matplotlib.pyplot as plt\n",
        "import seaborn as sns\n",
        "from collections import Counter\n",
        "from scipy import stats\n",
        "from statsmodels.stats.weightstats import ztest\n",
        "from statsmodels.stats.multitest import multipletests\n",
        "\n",
        "#import statsmodels.stats.multitest.multipletests as multipletests\n",
        "#helper code\n",
        "from scripts.api import *\n",
        "import scripts.TextAnalysis as ta\n",
        "\n",
        "pd.set_option(\"display.max_colwidth\", None)\n"
      ]
    },
    {
      "cell_type": "markdown",
      "source": [
        "# Data Processing"
      ],
      "metadata": {
        "id": "i6dytvPVWaWl"
      }
    },
    {
      "cell_type": "markdown",
      "metadata": {
        "id": "XiR4CbRocy7b"
      },
      "source": [
        "## Load data\n",
        "\n",
        "The data is in `\"data/lec_08_tweets_sentiment.csv\"`.  This contains tweets and their sentiment for several prominent Twitter users."
      ]
    },
    {
      "cell_type": "code",
      "execution_count": null,
      "metadata": {
        "colab": {
          "base_uri": "https://localhost:8080/",
          "height": 507
        },
        "id": "-i7TA3njcy7c",
        "outputId": "eff7e1c4-f32f-420f-d0dd-54d045b8c2aa"
      },
      "outputs": [
        {
          "output_type": "stream",
          "name": "stdout",
          "text": [
            "dataframe has 8628 tweets\n"
          ]
        },
        {
          "output_type": "execute_result",
          "data": {
            "text/plain": [
              "     Unnamed: 0                created_at screen_name  \\\n",
              "4158       4156  2021-02-28T08:28:48.000Z     JBALVIN   \n",
              "5963       5961  2021-08-11T19:05:53.000Z         AOC   \n",
              "\n",
              "                                                                                                                                                                                                                                                                                           text  \\\n",
              "4158                                                                                                                                                                                                                  RT @DiorWar: @JBALVIN @Canelo fight night 🔥🔥🔥🎶🥊🇲🇽 https://t.co/wOJXpZ04mk   \n",
              "5963  The @FairGrowthCmte is a historic temporary select committee to tackle inequality in America.\\n\\nIt is modeled off TNEC, (Temporary Nat’l Economic Committee) that was charged w/ investigating the extreme concentration of economic power in the US leading up to the Great Depression.   \n",
              "\n",
              "     lang  retweet_count  reply_count  like_count  quote_count            id  \\\n",
              "4158   en           81.0          0.0         0.0          0.0  1.365942e+18   \n",
              "5963   en          139.0         56.0      1414.0          5.0  1.425534e+18   \n",
              "\n",
              "      author_id  conversation_id  in_reply_to_user_id   geo  sentiment  \n",
              "4158   44670915     1.365942e+18                  NaN  None   3.333505  \n",
              "5963  138203134     1.425533e+18          138203134.0  None   3.722128  "
            ],
            "text/html": [
              "\n",
              "  <div id=\"df-60b2e0a5-5113-4f75-a455-87c287c693ca\">\n",
              "    <div class=\"colab-df-container\">\n",
              "      <div>\n",
              "<style scoped>\n",
              "    .dataframe tbody tr th:only-of-type {\n",
              "        vertical-align: middle;\n",
              "    }\n",
              "\n",
              "    .dataframe tbody tr th {\n",
              "        vertical-align: top;\n",
              "    }\n",
              "\n",
              "    .dataframe thead th {\n",
              "        text-align: right;\n",
              "    }\n",
              "</style>\n",
              "<table border=\"1\" class=\"dataframe\">\n",
              "  <thead>\n",
              "    <tr style=\"text-align: right;\">\n",
              "      <th></th>\n",
              "      <th>Unnamed: 0</th>\n",
              "      <th>created_at</th>\n",
              "      <th>screen_name</th>\n",
              "      <th>text</th>\n",
              "      <th>lang</th>\n",
              "      <th>retweet_count</th>\n",
              "      <th>reply_count</th>\n",
              "      <th>like_count</th>\n",
              "      <th>quote_count</th>\n",
              "      <th>id</th>\n",
              "      <th>author_id</th>\n",
              "      <th>conversation_id</th>\n",
              "      <th>in_reply_to_user_id</th>\n",
              "      <th>geo</th>\n",
              "      <th>sentiment</th>\n",
              "    </tr>\n",
              "  </thead>\n",
              "  <tbody>\n",
              "    <tr>\n",
              "      <th>4158</th>\n",
              "      <td>4156</td>\n",
              "      <td>2021-02-28T08:28:48.000Z</td>\n",
              "      <td>JBALVIN</td>\n",
              "      <td>RT @DiorWar: @JBALVIN @Canelo fight night 🔥🔥🔥🎶🥊🇲🇽 https://t.co/wOJXpZ04mk</td>\n",
              "      <td>en</td>\n",
              "      <td>81.0</td>\n",
              "      <td>0.0</td>\n",
              "      <td>0.0</td>\n",
              "      <td>0.0</td>\n",
              "      <td>1.365942e+18</td>\n",
              "      <td>44670915</td>\n",
              "      <td>1.365942e+18</td>\n",
              "      <td>NaN</td>\n",
              "      <td>None</td>\n",
              "      <td>3.333505</td>\n",
              "    </tr>\n",
              "    <tr>\n",
              "      <th>5963</th>\n",
              "      <td>5961</td>\n",
              "      <td>2021-08-11T19:05:53.000Z</td>\n",
              "      <td>AOC</td>\n",
              "      <td>The @FairGrowthCmte is a historic temporary select committee to tackle inequality in America.\\n\\nIt is modeled off TNEC, (Temporary Nat’l Economic Committee) that was charged w/ investigating the extreme concentration of economic power in the US leading up to the Great Depression.</td>\n",
              "      <td>en</td>\n",
              "      <td>139.0</td>\n",
              "      <td>56.0</td>\n",
              "      <td>1414.0</td>\n",
              "      <td>5.0</td>\n",
              "      <td>1.425534e+18</td>\n",
              "      <td>138203134</td>\n",
              "      <td>1.425533e+18</td>\n",
              "      <td>138203134.0</td>\n",
              "      <td>None</td>\n",
              "      <td>3.722128</td>\n",
              "    </tr>\n",
              "  </tbody>\n",
              "</table>\n",
              "</div>\n",
              "      <button class=\"colab-df-convert\" onclick=\"convertToInteractive('df-60b2e0a5-5113-4f75-a455-87c287c693ca')\"\n",
              "              title=\"Convert this dataframe to an interactive table.\"\n",
              "              style=\"display:none;\">\n",
              "        \n",
              "  <svg xmlns=\"http://www.w3.org/2000/svg\" height=\"24px\"viewBox=\"0 0 24 24\"\n",
              "       width=\"24px\">\n",
              "    <path d=\"M0 0h24v24H0V0z\" fill=\"none\"/>\n",
              "    <path d=\"M18.56 5.44l.94 2.06.94-2.06 2.06-.94-2.06-.94-.94-2.06-.94 2.06-2.06.94zm-11 1L8.5 8.5l.94-2.06 2.06-.94-2.06-.94L8.5 2.5l-.94 2.06-2.06.94zm10 10l.94 2.06.94-2.06 2.06-.94-2.06-.94-.94-2.06-.94 2.06-2.06.94z\"/><path d=\"M17.41 7.96l-1.37-1.37c-.4-.4-.92-.59-1.43-.59-.52 0-1.04.2-1.43.59L10.3 9.45l-7.72 7.72c-.78.78-.78 2.05 0 2.83L4 21.41c.39.39.9.59 1.41.59.51 0 1.02-.2 1.41-.59l7.78-7.78 2.81-2.81c.8-.78.8-2.07 0-2.86zM5.41 20L4 18.59l7.72-7.72 1.47 1.35L5.41 20z\"/>\n",
              "  </svg>\n",
              "      </button>\n",
              "      \n",
              "  <style>\n",
              "    .colab-df-container {\n",
              "      display:flex;\n",
              "      flex-wrap:wrap;\n",
              "      gap: 12px;\n",
              "    }\n",
              "\n",
              "    .colab-df-convert {\n",
              "      background-color: #E8F0FE;\n",
              "      border: none;\n",
              "      border-radius: 50%;\n",
              "      cursor: pointer;\n",
              "      display: none;\n",
              "      fill: #1967D2;\n",
              "      height: 32px;\n",
              "      padding: 0 0 0 0;\n",
              "      width: 32px;\n",
              "    }\n",
              "\n",
              "    .colab-df-convert:hover {\n",
              "      background-color: #E2EBFA;\n",
              "      box-shadow: 0px 1px 2px rgba(60, 64, 67, 0.3), 0px 1px 3px 1px rgba(60, 64, 67, 0.15);\n",
              "      fill: #174EA6;\n",
              "    }\n",
              "\n",
              "    [theme=dark] .colab-df-convert {\n",
              "      background-color: #3B4455;\n",
              "      fill: #D2E3FC;\n",
              "    }\n",
              "\n",
              "    [theme=dark] .colab-df-convert:hover {\n",
              "      background-color: #434B5C;\n",
              "      box-shadow: 0px 1px 3px 1px rgba(0, 0, 0, 0.15);\n",
              "      filter: drop-shadow(0px 1px 2px rgba(0, 0, 0, 0.3));\n",
              "      fill: #FFFFFF;\n",
              "    }\n",
              "  </style>\n",
              "\n",
              "      <script>\n",
              "        const buttonEl =\n",
              "          document.querySelector('#df-60b2e0a5-5113-4f75-a455-87c287c693ca button.colab-df-convert');\n",
              "        buttonEl.style.display =\n",
              "          google.colab.kernel.accessAllowed ? 'block' : 'none';\n",
              "\n",
              "        async function convertToInteractive(key) {\n",
              "          const element = document.querySelector('#df-60b2e0a5-5113-4f75-a455-87c287c693ca');\n",
              "          const dataTable =\n",
              "            await google.colab.kernel.invokeFunction('convertToInteractive',\n",
              "                                                     [key], {});\n",
              "          if (!dataTable) return;\n",
              "\n",
              "          const docLinkHtml = 'Like what you see? Visit the ' +\n",
              "            '<a target=\"_blank\" href=https://colab.research.google.com/notebooks/data_table.ipynb>data table notebook</a>'\n",
              "            + ' to learn more about interactive tables.';\n",
              "          element.innerHTML = '';\n",
              "          dataTable['output_type'] = 'display_data';\n",
              "          await google.colab.output.renderOutput(dataTable, element);\n",
              "          const docLink = document.createElement('div');\n",
              "          docLink.innerHTML = docLinkHtml;\n",
              "          element.appendChild(docLink);\n",
              "        }\n",
              "      </script>\n",
              "    </div>\n",
              "  </div>\n",
              "  "
            ]
          },
          "metadata": {},
          "execution_count": 4
        }
      ],
      "source": [
        "fname = \"data/lec_08_tweets_sentiment.csv\"\n",
        "df_all = pd.read_csv(fname)\n",
        "ntweets = len(df_all)\n",
        "print(f\"dataframe has {ntweets} tweets\")\n",
        "df_all.sample(n=2)"
      ]
    },
    {
      "cell_type": "markdown",
      "source": [
        "## Add keyword indicator column\n",
        "\n",
        "We will define a list of keywords.  Then we will add a column to the dataframe called `f\"keyword_{keyword}\"` that tells us if the tweet contains the keyword.  "
      ],
      "metadata": {
        "id": "650NVMx7WeQh"
      }
    },
    {
      "cell_type": "code",
      "source": [],
      "metadata": {
        "id": "rkB9WR6mYyBU"
      },
      "execution_count": null,
      "outputs": []
    },
    {
      "cell_type": "code",
      "execution_count": null,
      "metadata": {
        "colab": {
          "base_uri": "https://localhost:8080/",
          "height": 575
        },
        "id": "cI629HK8cy7d",
        "outputId": "d6c42122-8f4e-42fa-c7a6-7d4b3a33f370"
      },
      "outputs": [
        {
          "output_type": "execute_result",
          "data": {
            "text/plain": [
              "     Unnamed: 0                created_at  screen_name  \\\n",
              "6583       6581  2021-10-14T18:21:21.000Z    KingJames   \n",
              "3153       3153  2020-10-21T02:30:53.000Z  BarackObama   \n",
              "\n",
              "                                                                                                                                                                                                                                                                            text  \\\n",
              "6583                                                                       Huge thank you to my new @TheSpringHillCo partners RedBird, @FenwaySports, @Nike, and @EpicGames.  We are on a mission to empower and with this group...Imagine how many lives we can change!!! 🙏🏾✊🏾👑   \n",
              "3153  One of the most inspiring things about this year has been seeing so many young people organizing, marching, and fighting for change. And to change the game on any of the issues we care about, we've got to vote for @JoeBiden and @KamalaHarris. https://t.co/vfHnP4XPxK   \n",
              "\n",
              "     lang  retweet_count  reply_count  like_count  quote_count            id  \\\n",
              "6583   en          290.0        135.0      4839.0         15.0  1.448716e+18   \n",
              "3153   en        23829.0       7407.0    140534.0       2528.0  1.318742e+18   \n",
              "\n",
              "     author_id  conversation_id  in_reply_to_user_id   geo  sentiment  \\\n",
              "6583  23083404     1.448716e+18                  NaN  None   4.878761   \n",
              "3153    813286     1.318742e+18                  NaN  None   4.745647   \n",
              "\n",
              "     keyword_congress keyword_love keyword_bill keyword_hate  \n",
              "6583            False        False        False        False  \n",
              "3153            False        False        False        False  "
            ],
            "text/html": [
              "\n",
              "  <div id=\"df-15fce8a0-d56e-46f5-9b17-293e2fc9668f\">\n",
              "    <div class=\"colab-df-container\">\n",
              "      <div>\n",
              "<style scoped>\n",
              "    .dataframe tbody tr th:only-of-type {\n",
              "        vertical-align: middle;\n",
              "    }\n",
              "\n",
              "    .dataframe tbody tr th {\n",
              "        vertical-align: top;\n",
              "    }\n",
              "\n",
              "    .dataframe thead th {\n",
              "        text-align: right;\n",
              "    }\n",
              "</style>\n",
              "<table border=\"1\" class=\"dataframe\">\n",
              "  <thead>\n",
              "    <tr style=\"text-align: right;\">\n",
              "      <th></th>\n",
              "      <th>Unnamed: 0</th>\n",
              "      <th>created_at</th>\n",
              "      <th>screen_name</th>\n",
              "      <th>text</th>\n",
              "      <th>lang</th>\n",
              "      <th>retweet_count</th>\n",
              "      <th>reply_count</th>\n",
              "      <th>like_count</th>\n",
              "      <th>quote_count</th>\n",
              "      <th>id</th>\n",
              "      <th>author_id</th>\n",
              "      <th>conversation_id</th>\n",
              "      <th>in_reply_to_user_id</th>\n",
              "      <th>geo</th>\n",
              "      <th>sentiment</th>\n",
              "      <th>keyword_congress</th>\n",
              "      <th>keyword_love</th>\n",
              "      <th>keyword_bill</th>\n",
              "      <th>keyword_hate</th>\n",
              "    </tr>\n",
              "  </thead>\n",
              "  <tbody>\n",
              "    <tr>\n",
              "      <th>6583</th>\n",
              "      <td>6581</td>\n",
              "      <td>2021-10-14T18:21:21.000Z</td>\n",
              "      <td>KingJames</td>\n",
              "      <td>Huge thank you to my new @TheSpringHillCo partners RedBird, @FenwaySports, @Nike, and @EpicGames.  We are on a mission to empower and with this group...Imagine how many lives we can change!!! 🙏🏾✊🏾👑</td>\n",
              "      <td>en</td>\n",
              "      <td>290.0</td>\n",
              "      <td>135.0</td>\n",
              "      <td>4839.0</td>\n",
              "      <td>15.0</td>\n",
              "      <td>1.448716e+18</td>\n",
              "      <td>23083404</td>\n",
              "      <td>1.448716e+18</td>\n",
              "      <td>NaN</td>\n",
              "      <td>None</td>\n",
              "      <td>4.878761</td>\n",
              "      <td>False</td>\n",
              "      <td>False</td>\n",
              "      <td>False</td>\n",
              "      <td>False</td>\n",
              "    </tr>\n",
              "    <tr>\n",
              "      <th>3153</th>\n",
              "      <td>3153</td>\n",
              "      <td>2020-10-21T02:30:53.000Z</td>\n",
              "      <td>BarackObama</td>\n",
              "      <td>One of the most inspiring things about this year has been seeing so many young people organizing, marching, and fighting for change. And to change the game on any of the issues we care about, we've got to vote for @JoeBiden and @KamalaHarris. https://t.co/vfHnP4XPxK</td>\n",
              "      <td>en</td>\n",
              "      <td>23829.0</td>\n",
              "      <td>7407.0</td>\n",
              "      <td>140534.0</td>\n",
              "      <td>2528.0</td>\n",
              "      <td>1.318742e+18</td>\n",
              "      <td>813286</td>\n",
              "      <td>1.318742e+18</td>\n",
              "      <td>NaN</td>\n",
              "      <td>None</td>\n",
              "      <td>4.745647</td>\n",
              "      <td>False</td>\n",
              "      <td>False</td>\n",
              "      <td>False</td>\n",
              "      <td>False</td>\n",
              "    </tr>\n",
              "  </tbody>\n",
              "</table>\n",
              "</div>\n",
              "      <button class=\"colab-df-convert\" onclick=\"convertToInteractive('df-15fce8a0-d56e-46f5-9b17-293e2fc9668f')\"\n",
              "              title=\"Convert this dataframe to an interactive table.\"\n",
              "              style=\"display:none;\">\n",
              "        \n",
              "  <svg xmlns=\"http://www.w3.org/2000/svg\" height=\"24px\"viewBox=\"0 0 24 24\"\n",
              "       width=\"24px\">\n",
              "    <path d=\"M0 0h24v24H0V0z\" fill=\"none\"/>\n",
              "    <path d=\"M18.56 5.44l.94 2.06.94-2.06 2.06-.94-2.06-.94-.94-2.06-.94 2.06-2.06.94zm-11 1L8.5 8.5l.94-2.06 2.06-.94-2.06-.94L8.5 2.5l-.94 2.06-2.06.94zm10 10l.94 2.06.94-2.06 2.06-.94-2.06-.94-.94-2.06-.94 2.06-2.06.94z\"/><path d=\"M17.41 7.96l-1.37-1.37c-.4-.4-.92-.59-1.43-.59-.52 0-1.04.2-1.43.59L10.3 9.45l-7.72 7.72c-.78.78-.78 2.05 0 2.83L4 21.41c.39.39.9.59 1.41.59.51 0 1.02-.2 1.41-.59l7.78-7.78 2.81-2.81c.8-.78.8-2.07 0-2.86zM5.41 20L4 18.59l7.72-7.72 1.47 1.35L5.41 20z\"/>\n",
              "  </svg>\n",
              "      </button>\n",
              "      \n",
              "  <style>\n",
              "    .colab-df-container {\n",
              "      display:flex;\n",
              "      flex-wrap:wrap;\n",
              "      gap: 12px;\n",
              "    }\n",
              "\n",
              "    .colab-df-convert {\n",
              "      background-color: #E8F0FE;\n",
              "      border: none;\n",
              "      border-radius: 50%;\n",
              "      cursor: pointer;\n",
              "      display: none;\n",
              "      fill: #1967D2;\n",
              "      height: 32px;\n",
              "      padding: 0 0 0 0;\n",
              "      width: 32px;\n",
              "    }\n",
              "\n",
              "    .colab-df-convert:hover {\n",
              "      background-color: #E2EBFA;\n",
              "      box-shadow: 0px 1px 2px rgba(60, 64, 67, 0.3), 0px 1px 3px 1px rgba(60, 64, 67, 0.15);\n",
              "      fill: #174EA6;\n",
              "    }\n",
              "\n",
              "    [theme=dark] .colab-df-convert {\n",
              "      background-color: #3B4455;\n",
              "      fill: #D2E3FC;\n",
              "    }\n",
              "\n",
              "    [theme=dark] .colab-df-convert:hover {\n",
              "      background-color: #434B5C;\n",
              "      box-shadow: 0px 1px 3px 1px rgba(0, 0, 0, 0.15);\n",
              "      filter: drop-shadow(0px 1px 2px rgba(0, 0, 0, 0.3));\n",
              "      fill: #FFFFFF;\n",
              "    }\n",
              "  </style>\n",
              "\n",
              "      <script>\n",
              "        const buttonEl =\n",
              "          document.querySelector('#df-15fce8a0-d56e-46f5-9b17-293e2fc9668f button.colab-df-convert');\n",
              "        buttonEl.style.display =\n",
              "          google.colab.kernel.accessAllowed ? 'block' : 'none';\n",
              "\n",
              "        async function convertToInteractive(key) {\n",
              "          const element = document.querySelector('#df-15fce8a0-d56e-46f5-9b17-293e2fc9668f');\n",
              "          const dataTable =\n",
              "            await google.colab.kernel.invokeFunction('convertToInteractive',\n",
              "                                                     [key], {});\n",
              "          if (!dataTable) return;\n",
              "\n",
              "          const docLinkHtml = 'Like what you see? Visit the ' +\n",
              "            '<a target=\"_blank\" href=https://colab.research.google.com/notebooks/data_table.ipynb>data table notebook</a>'\n",
              "            + ' to learn more about interactive tables.';\n",
              "          element.innerHTML = '';\n",
              "          dataTable['output_type'] = 'display_data';\n",
              "          await google.colab.output.renderOutput(dataTable, element);\n",
              "          const docLink = document.createElement('div');\n",
              "          docLink.innerHTML = docLinkHtml;\n",
              "          element.appendChild(docLink);\n",
              "        }\n",
              "      </script>\n",
              "    </div>\n",
              "  </div>\n",
              "  "
            ]
          },
          "metadata": {},
          "execution_count": 5
        }
      ],
      "source": [
        "keywords = ['congress','love','bill','hate']\n",
        "for keyword in keywords:\n",
        "  df_all[f'keyword_{keyword}'] = df_all.text.str.contains(keyword, case=False)\n",
        "\n",
        "df_all.sample(n=2)"
      ]
    },
    {
      "cell_type": "markdown",
      "source": [
        "## Add day of week and hour columns\n",
        "\n",
        "We will add columns indicating the hour and day of the week for each tweet."
      ],
      "metadata": {
        "id": "cBSuV6iNXn9g"
      }
    },
    {
      "cell_type": "code",
      "source": [
        "format = \"%Y-%m-%d %H:%M:%S\"\n",
        "df_all = df_all[df_all.created_at!='es']  #remove one weird tweet in this particular dataset\n",
        "\n",
        "df_all['created_at_datetime'] = pd.to_datetime(df_all['created_at'],format=format).dt.tz_localize(None)\n",
        "df_all['day'] = df_all.created_at_datetime.dt.day_name()   #get the day of the tweet\n",
        "df_all['hour'] = df_all.created_at_datetime.dt.hour   #get the hour of the tweet\n",
        "\n",
        "df_all.head(n=2)"
      ],
      "metadata": {
        "colab": {
          "base_uri": "https://localhost:8080/",
          "height": 621
        },
        "id": "jHY9cV2yXmwl",
        "outputId": "a41d2fe8-058f-451b-b767-38802b3634c9"
      },
      "execution_count": null,
      "outputs": [
        {
          "output_type": "stream",
          "name": "stderr",
          "text": [
            "<ipython-input-6-0327f37754c3>:4: SettingWithCopyWarning: \n",
            "A value is trying to be set on a copy of a slice from a DataFrame.\n",
            "Try using .loc[row_indexer,col_indexer] = value instead\n",
            "\n",
            "See the caveats in the documentation: https://pandas.pydata.org/pandas-docs/stable/user_guide/indexing.html#returning-a-view-versus-a-copy\n",
            "  df_all['created_at_datetime'] = pd.to_datetime(df_all['created_at'],format=format).dt.tz_localize(None)\n",
            "<ipython-input-6-0327f37754c3>:5: SettingWithCopyWarning: \n",
            "A value is trying to be set on a copy of a slice from a DataFrame.\n",
            "Try using .loc[row_indexer,col_indexer] = value instead\n",
            "\n",
            "See the caveats in the documentation: https://pandas.pydata.org/pandas-docs/stable/user_guide/indexing.html#returning-a-view-versus-a-copy\n",
            "  df_all['day'] = df_all.created_at_datetime.dt.day_name()   #get the day of the tweet\n",
            "<ipython-input-6-0327f37754c3>:6: SettingWithCopyWarning: \n",
            "A value is trying to be set on a copy of a slice from a DataFrame.\n",
            "Try using .loc[row_indexer,col_indexer] = value instead\n",
            "\n",
            "See the caveats in the documentation: https://pandas.pydata.org/pandas-docs/stable/user_guide/indexing.html#returning-a-view-versus-a-copy\n",
            "  df_all['hour'] = df_all.created_at_datetime.dt.hour   #get the hour of the tweet\n"
          ]
        },
        {
          "output_type": "execute_result",
          "data": {
            "text/plain": [
              "  Unnamed: 0                created_at screen_name  \\\n",
              "0          0  2022-01-28T23:57:49.000Z    elonmusk   \n",
              "1          1  2022-01-28T23:39:11.000Z    elonmusk   \n",
              "\n",
              "                                          text lang  retweet_count  \\\n",
              "0                @Austen There are many faux 🦄   en          425.0   \n",
              "1  @SawyerMerritt It has been a very long road   en          471.0   \n",
              "\n",
              "   reply_count  like_count  quote_count            id  ...  \\\n",
              "0        722.0      9234.0         52.0  1.487213e+18  ...   \n",
              "1        697.0     12114.0         30.0  1.487209e+18  ...   \n",
              "\n",
              "  in_reply_to_user_id   geo  sentiment keyword_congress  keyword_love  \\\n",
              "0         221838349.0  None   2.171888            False         False   \n",
              "1         243013409.0  None   3.255799            False         False   \n",
              "\n",
              "  keyword_bill keyword_hate created_at_datetime     day  hour  \n",
              "0        False        False 2022-01-28 23:57:49  Friday  23.0  \n",
              "1        False        False 2022-01-28 23:39:11  Friday  23.0  \n",
              "\n",
              "[2 rows x 22 columns]"
            ],
            "text/html": [
              "\n",
              "  <div id=\"df-bf82fb9d-a764-40c5-a374-15bcd435581f\">\n",
              "    <div class=\"colab-df-container\">\n",
              "      <div>\n",
              "<style scoped>\n",
              "    .dataframe tbody tr th:only-of-type {\n",
              "        vertical-align: middle;\n",
              "    }\n",
              "\n",
              "    .dataframe tbody tr th {\n",
              "        vertical-align: top;\n",
              "    }\n",
              "\n",
              "    .dataframe thead th {\n",
              "        text-align: right;\n",
              "    }\n",
              "</style>\n",
              "<table border=\"1\" class=\"dataframe\">\n",
              "  <thead>\n",
              "    <tr style=\"text-align: right;\">\n",
              "      <th></th>\n",
              "      <th>Unnamed: 0</th>\n",
              "      <th>created_at</th>\n",
              "      <th>screen_name</th>\n",
              "      <th>text</th>\n",
              "      <th>lang</th>\n",
              "      <th>retweet_count</th>\n",
              "      <th>reply_count</th>\n",
              "      <th>like_count</th>\n",
              "      <th>quote_count</th>\n",
              "      <th>id</th>\n",
              "      <th>...</th>\n",
              "      <th>in_reply_to_user_id</th>\n",
              "      <th>geo</th>\n",
              "      <th>sentiment</th>\n",
              "      <th>keyword_congress</th>\n",
              "      <th>keyword_love</th>\n",
              "      <th>keyword_bill</th>\n",
              "      <th>keyword_hate</th>\n",
              "      <th>created_at_datetime</th>\n",
              "      <th>day</th>\n",
              "      <th>hour</th>\n",
              "    </tr>\n",
              "  </thead>\n",
              "  <tbody>\n",
              "    <tr>\n",
              "      <th>0</th>\n",
              "      <td>0</td>\n",
              "      <td>2022-01-28T23:57:49.000Z</td>\n",
              "      <td>elonmusk</td>\n",
              "      <td>@Austen There are many faux 🦄</td>\n",
              "      <td>en</td>\n",
              "      <td>425.0</td>\n",
              "      <td>722.0</td>\n",
              "      <td>9234.0</td>\n",
              "      <td>52.0</td>\n",
              "      <td>1.487213e+18</td>\n",
              "      <td>...</td>\n",
              "      <td>221838349.0</td>\n",
              "      <td>None</td>\n",
              "      <td>2.171888</td>\n",
              "      <td>False</td>\n",
              "      <td>False</td>\n",
              "      <td>False</td>\n",
              "      <td>False</td>\n",
              "      <td>2022-01-28 23:57:49</td>\n",
              "      <td>Friday</td>\n",
              "      <td>23.0</td>\n",
              "    </tr>\n",
              "    <tr>\n",
              "      <th>1</th>\n",
              "      <td>1</td>\n",
              "      <td>2022-01-28T23:39:11.000Z</td>\n",
              "      <td>elonmusk</td>\n",
              "      <td>@SawyerMerritt It has been a very long road</td>\n",
              "      <td>en</td>\n",
              "      <td>471.0</td>\n",
              "      <td>697.0</td>\n",
              "      <td>12114.0</td>\n",
              "      <td>30.0</td>\n",
              "      <td>1.487209e+18</td>\n",
              "      <td>...</td>\n",
              "      <td>243013409.0</td>\n",
              "      <td>None</td>\n",
              "      <td>3.255799</td>\n",
              "      <td>False</td>\n",
              "      <td>False</td>\n",
              "      <td>False</td>\n",
              "      <td>False</td>\n",
              "      <td>2022-01-28 23:39:11</td>\n",
              "      <td>Friday</td>\n",
              "      <td>23.0</td>\n",
              "    </tr>\n",
              "  </tbody>\n",
              "</table>\n",
              "<p>2 rows × 22 columns</p>\n",
              "</div>\n",
              "      <button class=\"colab-df-convert\" onclick=\"convertToInteractive('df-bf82fb9d-a764-40c5-a374-15bcd435581f')\"\n",
              "              title=\"Convert this dataframe to an interactive table.\"\n",
              "              style=\"display:none;\">\n",
              "        \n",
              "  <svg xmlns=\"http://www.w3.org/2000/svg\" height=\"24px\"viewBox=\"0 0 24 24\"\n",
              "       width=\"24px\">\n",
              "    <path d=\"M0 0h24v24H0V0z\" fill=\"none\"/>\n",
              "    <path d=\"M18.56 5.44l.94 2.06.94-2.06 2.06-.94-2.06-.94-.94-2.06-.94 2.06-2.06.94zm-11 1L8.5 8.5l.94-2.06 2.06-.94-2.06-.94L8.5 2.5l-.94 2.06-2.06.94zm10 10l.94 2.06.94-2.06 2.06-.94-2.06-.94-.94-2.06-.94 2.06-2.06.94z\"/><path d=\"M17.41 7.96l-1.37-1.37c-.4-.4-.92-.59-1.43-.59-.52 0-1.04.2-1.43.59L10.3 9.45l-7.72 7.72c-.78.78-.78 2.05 0 2.83L4 21.41c.39.39.9.59 1.41.59.51 0 1.02-.2 1.41-.59l7.78-7.78 2.81-2.81c.8-.78.8-2.07 0-2.86zM5.41 20L4 18.59l7.72-7.72 1.47 1.35L5.41 20z\"/>\n",
              "  </svg>\n",
              "      </button>\n",
              "      \n",
              "  <style>\n",
              "    .colab-df-container {\n",
              "      display:flex;\n",
              "      flex-wrap:wrap;\n",
              "      gap: 12px;\n",
              "    }\n",
              "\n",
              "    .colab-df-convert {\n",
              "      background-color: #E8F0FE;\n",
              "      border: none;\n",
              "      border-radius: 50%;\n",
              "      cursor: pointer;\n",
              "      display: none;\n",
              "      fill: #1967D2;\n",
              "      height: 32px;\n",
              "      padding: 0 0 0 0;\n",
              "      width: 32px;\n",
              "    }\n",
              "\n",
              "    .colab-df-convert:hover {\n",
              "      background-color: #E2EBFA;\n",
              "      box-shadow: 0px 1px 2px rgba(60, 64, 67, 0.3), 0px 1px 3px 1px rgba(60, 64, 67, 0.15);\n",
              "      fill: #174EA6;\n",
              "    }\n",
              "\n",
              "    [theme=dark] .colab-df-convert {\n",
              "      background-color: #3B4455;\n",
              "      fill: #D2E3FC;\n",
              "    }\n",
              "\n",
              "    [theme=dark] .colab-df-convert:hover {\n",
              "      background-color: #434B5C;\n",
              "      box-shadow: 0px 1px 3px 1px rgba(0, 0, 0, 0.15);\n",
              "      filter: drop-shadow(0px 1px 2px rgba(0, 0, 0, 0.3));\n",
              "      fill: #FFFFFF;\n",
              "    }\n",
              "  </style>\n",
              "\n",
              "      <script>\n",
              "        const buttonEl =\n",
              "          document.querySelector('#df-bf82fb9d-a764-40c5-a374-15bcd435581f button.colab-df-convert');\n",
              "        buttonEl.style.display =\n",
              "          google.colab.kernel.accessAllowed ? 'block' : 'none';\n",
              "\n",
              "        async function convertToInteractive(key) {\n",
              "          const element = document.querySelector('#df-bf82fb9d-a764-40c5-a374-15bcd435581f');\n",
              "          const dataTable =\n",
              "            await google.colab.kernel.invokeFunction('convertToInteractive',\n",
              "                                                     [key], {});\n",
              "          if (!dataTable) return;\n",
              "\n",
              "          const docLinkHtml = 'Like what you see? Visit the ' +\n",
              "            '<a target=\"_blank\" href=https://colab.research.google.com/notebooks/data_table.ipynb>data table notebook</a>'\n",
              "            + ' to learn more about interactive tables.';\n",
              "          element.innerHTML = '';\n",
              "          dataTable['output_type'] = 'display_data';\n",
              "          await google.colab.output.renderOutput(dataTable, element);\n",
              "          const docLink = document.createElement('div');\n",
              "          docLink.innerHTML = docLinkHtml;\n",
              "          element.appendChild(docLink);\n",
              "        }\n",
              "      </script>\n",
              "    </div>\n",
              "  </div>\n",
              "  "
            ]
          },
          "metadata": {},
          "execution_count": 6
        }
      ]
    },
    {
      "cell_type": "markdown",
      "source": [
        "# Retweet Count vs. Keyword\n",
        "\n",
        "We will look at the tweets of a single user and compare rewteet counts vs. keywords."
      ],
      "metadata": {
        "id": "kWqRJn_ElT1h"
      }
    },
    {
      "cell_type": "markdown",
      "source": [
        "## Load data"
      ],
      "metadata": {
        "id": "MTn21TJ71m0M"
      }
    },
    {
      "cell_type": "code",
      "source": [
        "screen_name = 'AOC'\n",
        "df_u = df_all[df_all.screen_name==screen_name].copy()"
      ],
      "metadata": {
        "id": "1tbHdBizm63w"
      },
      "execution_count": null,
      "outputs": []
    },
    {
      "cell_type": "markdown",
      "source": [
        "## Plot retweet count vs keyword\n",
        "\n",
        "\n",
        "We will plot the mean retweet count vs. keyword for each keyword in the list `keywords`.  We use the `barplot` function and set the confidence intervals with the `ci` parameter."
      ],
      "metadata": {
        "id": "tHYng91AmOXx"
      }
    },
    {
      "cell_type": "code",
      "execution_count": null,
      "metadata": {
        "colab": {
          "base_uri": "https://localhost:8080/",
          "height": 969
        },
        "id": "6cizkeNwcy7e",
        "outputId": "39a33516-baf1-4e10-a58e-3dcea6db6d4d"
      },
      "outputs": [
        {
          "output_type": "display_data",
          "data": {
            "text/plain": [
              "<Figure size 1152x1152 with 4 Axes>"
            ],
            "image/png": "[encoded data removed]"
          },
          "metadata": {
            "needs_background": "light"
          }
        }
      ],
      "source": [
        "fig = plt.figure(figsize = (16,16))\n",
        "\n",
        "c=0\n",
        "for keyword in keywords:\n",
        "    c+=1\n",
        "    plt.subplot(2,2,c)\n",
        "    sns.barplot(data = df_u, x= f\"keyword_{keyword}\", \n",
        "                y = 'retweet_count', \n",
        "                errorbar=('ci', 95) )\n",
        "    plt.xticks(fontsize = 14)\n",
        "    plt.yticks(fontsize = 14)\n",
        "    plt.ylabel(\"Retweet Count\", fontsize = 18)\n",
        "    plt.xlabel(f\"Contains {keyword}\", fontsize = 18)\n",
        "    plt.title(f\"{screen_name} tweets with {keyword}\", fontsize = 24)\n",
        "    plt.grid()\n",
        "plt.show()"
      ]
    },
    {
      "cell_type": "markdown",
      "source": [
        "## Create Data for Statistical Tests\n",
        "\n",
        "We will created to lists `X0` and `X1` that are the retweet counts without  and with a keyword."
      ],
      "metadata": {
        "id": "w7W7K2celeBY"
      }
    },
    {
      "cell_type": "code",
      "execution_count": null,
      "metadata": {
        "colab": {
          "base_uri": "https://localhost:8080/"
        },
        "id": "w-Zbf4yFcy7e",
        "outputId": "d1e75432-969d-4c31-9ee1-2247059f6d57"
      },
      "outputs": [
        {
          "output_type": "stream",
          "name": "stdout",
          "text": [
            "Tweets of AOC\n",
            "Contains love\tNumber of tweets\tMean retweet count\n",
            "False\t\t1084\t\t\t4042.836\n",
            "True\t\t15\t\t\t3864.333\n"
          ]
        }
      ],
      "source": [
        "keyword = \"love\"\n",
        "\n",
        "X0 = df_u.retweet_count[df_u[f\"keyword_{keyword}\"]==False].dropna().tolist()\n",
        "X1 = df_u.retweet_count[df_u[f\"keyword_{keyword}\"]==True].dropna().tolist()\n",
        "n0 = len(X0)\n",
        "n1 = len(X1)\n",
        "\n",
        "mu0 = np.mean(X0)\n",
        "mu1 = np.mean(X1)\n",
        "\n",
        "print(f\"Tweets of {screen_name}\")\n",
        "print(f\"Contains {keyword}\\tNumber of tweets\\tMean retweet count\")\n",
        "print(f\"False\\t\\t{n0}\\t\\t\\t{mu0:.3f}\")\n",
        "print(f\"True\\t\\t{n1}\\t\\t\\t{mu1:.3f}\")"
      ]
    },
    {
      "cell_type": "markdown",
      "source": [
        "## Z-test\n",
        "\n",
        "We will apply a z-test to see if the mean retweet count is different for tweets with and without the keyword.  We apply the `ztest` function to `X0` and `X1`.  We set `value=0` which means under the null hypothesis the means are equal.  The test returns the z-statistic `zstat` and the p-value `pval`.  We set the significance level `alpha` and if `pval<=alpha`, we can reject the null hypothesis."
      ],
      "metadata": {
        "id": "CwILRGBhpaFm"
      }
    },
    {
      "cell_type": "code",
      "execution_count": null,
      "metadata": {
        "colab": {
          "base_uri": "https://localhost:8080/"
        },
        "id": "mkDUR12kcy7f",
        "outputId": "660200cd-4863-470c-c66d-99a92473a371"
      },
      "outputs": [
        {
          "output_type": "stream",
          "name": "stdout",
          "text": [
            "Z-test\n",
            "love: z-stat = 0.097 (0.922)\n",
            "\n",
            "Not significant at 1% level\n"
          ]
        }
      ],
      "source": [
        "(zstat, pval) = ztest(X0, X1, value=0)\n",
        "\n",
        "\n",
        "print(f\"Z-test\")\n",
        "print(f\"{keyword}: z-stat = {zstat:.3f} ({pval:.3f})\\n\")\n",
        "alpha = 0.01  #significance level\n",
        "if pval <=alpha:\n",
        "  print(\"Significant at 1% level\")\n",
        "else:\n",
        "  print(\"Not significant at 1% level\")"
      ]
    },
    {
      "cell_type": "markdown",
      "metadata": {
        "id": "FJBlo0vbcy7i"
      },
      "source": [
        "## T-test \n",
        "\n",
        "We can apply the t-test to compare the mean retweet counts.  The t-test is appropriate when the two groups have different variances.  We use the function `ttest_ind` and set `equal_var=False`."
      ]
    },
    {
      "cell_type": "code",
      "execution_count": null,
      "metadata": {
        "colab": {
          "base_uri": "https://localhost:8080/"
        },
        "id": "JuDWhrnAcy7i",
        "outputId": "c453dca5-0491-4cba-96c2-c84195219a1b"
      },
      "outputs": [
        {
          "output_type": "stream",
          "name": "stdout",
          "text": [
            "T-test\n",
            "love: t-stat = 0.138 (0.892)\n",
            "\n",
            "Not significant at 1% level\n"
          ]
        }
      ],
      "source": [
        "(tstat, pval) =stats.ttest_ind(X0,X1, equal_var = False)\n",
        "\n",
        "print('T-test')\n",
        "print(f\"{keyword}: t-stat = {tstat:.3f} ({pval:.3f})\\n\")\n",
        "alpha = 0.01  #significance level\n",
        "if pval <=alpha:\n",
        "  print(\"Significant at 1% level\")\n",
        "else:\n",
        "  print(\"Not significant at 1% level\")"
      ]
    },
    {
      "cell_type": "markdown",
      "source": [
        "## Mann-Whitney U test\n",
        "\n",
        "The Mann-Whitney U test is a non-parametric test with the null hypothesis that the medians are equal.  We use the `mannwhitneyu` function."
      ],
      "metadata": {
        "id": "LqEPfJtcrRbb"
      }
    },
    {
      "cell_type": "code",
      "execution_count": null,
      "metadata": {
        "colab": {
          "base_uri": "https://localhost:8080/"
        },
        "id": "x5Htxqejcy7i",
        "outputId": "55b737ec-3da0-4688-fb01-86cc6177481a"
      },
      "outputs": [
        {
          "output_type": "stream",
          "name": "stdout",
          "text": [
            "Mann Whitney U test\n",
            "love: U-stat = 7717.500 (0.736)\n",
            "\n",
            "Not significant at 1% level\n"
          ]
        }
      ],
      "source": [
        "ustat, pval = stats.mannwhitneyu(X0, X1)\n",
        "\n",
        "print('Mann Whitney U test')\n",
        "print(f\"{keyword}: U-stat = {ustat:.3f} ({pval:.3f})\\n\")\n",
        "alpha = 0.01  #significance level\n",
        "if pval <=alpha:\n",
        "  print(\"Significant at 1% level\")\n",
        "else:\n",
        "  print(\"Not significant at 1% level\")"
      ]
    },
    {
      "cell_type": "markdown",
      "source": [
        "## Kolmogorov-Smirnov test\n",
        "\n",
        "The Kolmogorov-Smirnov test is a non-parametric test with the null hypothesis that the cumulative distribution functions of the two groups are equal.  We use the `ks_2samp` function.\n"
      ],
      "metadata": {
        "id": "yZBMVz9YsROf"
      }
    },
    {
      "cell_type": "code",
      "source": [
        "ksstat, pval = stats.ks_2samp(X0, X1)\n",
        "\n",
        "print('Kolmogorov-Smirnov test')\n",
        "print(f\"{keyword}: KS-stat = {ustat:.3f} ({pval:.3f})\\n\")\n",
        "alpha = 0.01  #significance level\n",
        "if pval <=alpha:\n",
        "  print(\"Significant at 1% level\")\n",
        "else:\n",
        "  print(\"Not significant at 1% level\")"
      ],
      "metadata": {
        "colab": {
          "base_uri": "https://localhost:8080/"
        },
        "id": "ukbN_XCzsfro",
        "outputId": "549a81c4-400b-4de0-8bca-737c64aa5f4f"
      },
      "execution_count": null,
      "outputs": [
        {
          "output_type": "stream",
          "name": "stdout",
          "text": [
            "Kolmogorov-Smirnov test\n",
            "love: KS-stat = 7717.500 (0.810)\n",
            "\n",
            "Not significant at 1% level\n"
          ]
        }
      ]
    },
    {
      "cell_type": "markdown",
      "metadata": {
        "id": "VVPji_JPcy7k"
      },
      "source": [
        "## Testing Multiple Hypotheses\n",
        "\n",
        "If we test all the keywords to see which ones increase the mean retweet count, we need to correct the p-values to account for the multiple hypotheses.  We first calculate the p-value of a t-test for each keyword.  Then, we save these p-values in a list `pvals`.  Finally, we apply the `multipletests` function to `pvals` and set `method = 'holm'` to use the Holm-Bonferroni method.  We save the results in a dataframe `df_p` so we can read the results easily."
      ]
    },
    {
      "cell_type": "code",
      "execution_count": null,
      "metadata": {
        "colab": {
          "base_uri": "https://localhost:8080/"
        },
        "id": "b7K50mO5cy7k",
        "outputId": "6315b2ee-f8ae-45ec-a40e-59130be6c521"
      },
      "outputs": [
        {
          "output_type": "stream",
          "name": "stdout",
          "text": [
            "congress: t-stat = -0.573 (0.5682)\n",
            "love: t-stat = 0.138 (0.8920)\n",
            "bill: t-stat = 2.976 (0.0035)\n",
            "hate: t-stat = 1.177 (0.3570)\n"
          ]
        }
      ],
      "source": [
        "pvals = []\n",
        "for keyword in keywords:\n",
        "  X0 = df_u.retweet_count[df_u[f\"keyword_{keyword}\"]==False].dropna().tolist()\n",
        "  X1 = df_u.retweet_count[df_u[f\"keyword_{keyword}\"]==True].dropna().tolist()\n",
        "  (tstat, pval) =stats.ttest_ind(X0,X1, equal_var = False)\n",
        "  pvals.append(pval)\n",
        "  print(f\"{keyword}: t-stat = {tstat:.3f} ({pval:.4f})\")\n",
        "\n"
      ]
    },
    {
      "cell_type": "code",
      "execution_count": null,
      "metadata": {
        "colab": {
          "base_uri": "https://localhost:8080/",
          "height": 193
        },
        "id": "uTWo-hofcy7k",
        "outputId": "5b73bc7c-b3e8-435c-b4e2-5c79d1fcec4f"
      },
      "outputs": [
        {
          "output_type": "stream",
          "name": "stdout",
          "text": [
            "Holm-Bonferroni method t-test\n"
          ]
        },
        {
          "output_type": "execute_result",
          "data": {
            "text/plain": [
              "    keyword  reject_H0  pval corrected      pval\n",
              "0  congress      False        1.000000  0.568246\n",
              "1      love      False        1.000000  0.891972\n",
              "2      bill      False        0.013958  0.003490\n",
              "3      hate      False        1.000000  0.357050"
            ],
            "text/html": [
              "\n",
              "  <div id=\"df-c651b7fc-c1e2-4844-9d70-427c80f93c93\">\n",
              "    <div class=\"colab-df-container\">\n",
              "      <div>\n",
              "<style scoped>\n",
              "    .dataframe tbody tr th:only-of-type {\n",
              "        vertical-align: middle;\n",
              "    }\n",
              "\n",
              "    .dataframe tbody tr th {\n",
              "        vertical-align: top;\n",
              "    }\n",
              "\n",
              "    .dataframe thead th {\n",
              "        text-align: right;\n",
              "    }\n",
              "</style>\n",
              "<table border=\"1\" class=\"dataframe\">\n",
              "  <thead>\n",
              "    <tr style=\"text-align: right;\">\n",
              "      <th></th>\n",
              "      <th>keyword</th>\n",
              "      <th>reject_H0</th>\n",
              "      <th>pval corrected</th>\n",
              "      <th>pval</th>\n",
              "    </tr>\n",
              "  </thead>\n",
              "  <tbody>\n",
              "    <tr>\n",
              "      <th>0</th>\n",
              "      <td>congress</td>\n",
              "      <td>False</td>\n",
              "      <td>1.000000</td>\n",
              "      <td>0.568246</td>\n",
              "    </tr>\n",
              "    <tr>\n",
              "      <th>1</th>\n",
              "      <td>love</td>\n",
              "      <td>False</td>\n",
              "      <td>1.000000</td>\n",
              "      <td>0.891972</td>\n",
              "    </tr>\n",
              "    <tr>\n",
              "      <th>2</th>\n",
              "      <td>bill</td>\n",
              "      <td>False</td>\n",
              "      <td>0.013958</td>\n",
              "      <td>0.003490</td>\n",
              "    </tr>\n",
              "    <tr>\n",
              "      <th>3</th>\n",
              "      <td>hate</td>\n",
              "      <td>False</td>\n",
              "      <td>1.000000</td>\n",
              "      <td>0.357050</td>\n",
              "    </tr>\n",
              "  </tbody>\n",
              "</table>\n",
              "</div>\n",
              "      <button class=\"colab-df-convert\" onclick=\"convertToInteractive('df-c651b7fc-c1e2-4844-9d70-427c80f93c93')\"\n",
              "              title=\"Convert this dataframe to an interactive table.\"\n",
              "              style=\"display:none;\">\n",
              "        \n",
              "  <svg xmlns=\"http://www.w3.org/2000/svg\" height=\"24px\"viewBox=\"0 0 24 24\"\n",
              "       width=\"24px\">\n",
              "    <path d=\"M0 0h24v24H0V0z\" fill=\"none\"/>\n",
              "    <path d=\"M18.56 5.44l.94 2.06.94-2.06 2.06-.94-2.06-.94-.94-2.06-.94 2.06-2.06.94zm-11 1L8.5 8.5l.94-2.06 2.06-.94-2.06-.94L8.5 2.5l-.94 2.06-2.06.94zm10 10l.94 2.06.94-2.06 2.06-.94-2.06-.94-.94-2.06-.94 2.06-2.06.94z\"/><path d=\"M17.41 7.96l-1.37-1.37c-.4-.4-.92-.59-1.43-.59-.52 0-1.04.2-1.43.59L10.3 9.45l-7.72 7.72c-.78.78-.78 2.05 0 2.83L4 21.41c.39.39.9.59 1.41.59.51 0 1.02-.2 1.41-.59l7.78-7.78 2.81-2.81c.8-.78.8-2.07 0-2.86zM5.41 20L4 18.59l7.72-7.72 1.47 1.35L5.41 20z\"/>\n",
              "  </svg>\n",
              "      </button>\n",
              "      \n",
              "  <style>\n",
              "    .colab-df-container {\n",
              "      display:flex;\n",
              "      flex-wrap:wrap;\n",
              "      gap: 12px;\n",
              "    }\n",
              "\n",
              "    .colab-df-convert {\n",
              "      background-color: #E8F0FE;\n",
              "      border: none;\n",
              "      border-radius: 50%;\n",
              "      cursor: pointer;\n",
              "      display: none;\n",
              "      fill: #1967D2;\n",
              "      height: 32px;\n",
              "      padding: 0 0 0 0;\n",
              "      width: 32px;\n",
              "    }\n",
              "\n",
              "    .colab-df-convert:hover {\n",
              "      background-color: #E2EBFA;\n",
              "      box-shadow: 0px 1px 2px rgba(60, 64, 67, 0.3), 0px 1px 3px 1px rgba(60, 64, 67, 0.15);\n",
              "      fill: #174EA6;\n",
              "    }\n",
              "\n",
              "    [theme=dark] .colab-df-convert {\n",
              "      background-color: #3B4455;\n",
              "      fill: #D2E3FC;\n",
              "    }\n",
              "\n",
              "    [theme=dark] .colab-df-convert:hover {\n",
              "      background-color: #434B5C;\n",
              "      box-shadow: 0px 1px 3px 1px rgba(0, 0, 0, 0.15);\n",
              "      filter: drop-shadow(0px 1px 2px rgba(0, 0, 0, 0.3));\n",
              "      fill: #FFFFFF;\n",
              "    }\n",
              "  </style>\n",
              "\n",
              "      <script>\n",
              "        const buttonEl =\n",
              "          document.querySelector('#df-c651b7fc-c1e2-4844-9d70-427c80f93c93 button.colab-df-convert');\n",
              "        buttonEl.style.display =\n",
              "          google.colab.kernel.accessAllowed ? 'block' : 'none';\n",
              "\n",
              "        async function convertToInteractive(key) {\n",
              "          const element = document.querySelector('#df-c651b7fc-c1e2-4844-9d70-427c80f93c93');\n",
              "          const dataTable =\n",
              "            await google.colab.kernel.invokeFunction('convertToInteractive',\n",
              "                                                     [key], {});\n",
              "          if (!dataTable) return;\n",
              "\n",
              "          const docLinkHtml = 'Like what you see? Visit the ' +\n",
              "            '<a target=\"_blank\" href=https://colab.research.google.com/notebooks/data_table.ipynb>data table notebook</a>'\n",
              "            + ' to learn more about interactive tables.';\n",
              "          element.innerHTML = '';\n",
              "          dataTable['output_type'] = 'display_data';\n",
              "          await google.colab.output.renderOutput(dataTable, element);\n",
              "          const docLink = document.createElement('div');\n",
              "          docLink.innerHTML = docLinkHtml;\n",
              "          element.appendChild(docLink);\n",
              "        }\n",
              "      </script>\n",
              "    </div>\n",
              "  </div>\n",
              "  "
            ]
          },
          "metadata": {},
          "execution_count": 16
        }
      ],
      "source": [
        "alpha = 0.01  #significance level\n",
        "rejects,pvals_corrected,alphaSidak,alphacBonf = multipletests(pvals, alpha=alpha, \n",
        "                                                             method='holm', \n",
        "                                                             is_sorted=False, \n",
        "                                                             returnsorted=False)\n",
        "df_p = pd.DataFrame({'keyword':keywords,\n",
        "                     'reject_H0':rejects,\n",
        "                     'pval corrected':pvals_corrected,\n",
        "                     'pval':pvals})\n",
        "print(f\"Holm-Bonferroni method t-test\")\n",
        "df_p"
      ]
    },
    {
      "cell_type": "markdown",
      "source": [
        "# Comparing Users Language\n",
        "\n",
        "We will look at two users and see if they use a given keyword with the same frequency."
      ],
      "metadata": {
        "id": "LvaJyEadv3iK"
      }
    },
    {
      "cell_type": "markdown",
      "metadata": {
        "id": "VBeOffA3cy7j"
      },
      "source": [
        "## Contingency table\n",
        "\n",
        "We select two users with screen names given by the variables `w0` and `w1` and we select a keyword `keyword`.  Then we calculate the contingency table for this data.  The table has the values `a`,`b`,`c`,`d` which indicate the number of tweets in each category as follows:\n",
        "\n",
        "|Has keyword |User 0 | User 1|\n",
        "|-|--------|------|\n",
        "|True | a| b|\n",
        "|False| c|d|\n",
        "\n",
        "We store the table as a list of lists in `table`."
      ]
    },
    {
      "cell_type": "code",
      "execution_count": null,
      "metadata": {
        "colab": {
          "base_uri": "https://localhost:8080/"
        },
        "id": "mlzgb_fkcy7j",
        "outputId": "7634f202-9f58-42c4-ee0a-8e4ae72c091c"
      },
      "outputs": [
        {
          "output_type": "stream",
          "name": "stdout",
          "text": [
            "Contingency Table for love\n",
            "Has love\telonmusk\tAOC\n",
            "True\t1\t15\n",
            "False\t99\t1084\n"
          ]
        }
      ],
      "source": [
        "w0 = 'elonmusk'\n",
        "w1= 'AOC'\n",
        "\n",
        "keyword ='love'\n",
        "\n",
        "\n",
        "df0 =df_all[df_all.screen_name==w0]\n",
        "df1 =df_all[df_all.screen_name==w1]\n",
        "\n",
        "a = len(df0[df0.text.str.contains(keyword,  case=False)==True])\n",
        "b = len(df1[df1.text.str.contains(keyword,  case=False)==True])\n",
        "c = len(df0[df0.text.str.contains(keyword,  case=False)==False])\n",
        "d = len(df1[df1.text.str.contains(keyword,  case=False)==False])\n",
        "\n",
        "table = [[a, b], [c, d]]\n",
        "\n",
        "\n",
        "print(f\"Contingency Table for {keyword}\")\n",
        "print(f\"Has {keyword}\\t{w0}\\t{w1}\\nTrue\\t{a}\\t{b}\\nFalse\\t{c}\\t{d}\")\n",
        "\n"
      ]
    },
    {
      "cell_type": "markdown",
      "source": [
        "## Fisher Exact Test\n",
        "\n",
        "We apply the Fisher exact test to the contingency table to see if the frequencies are different for the two users.  This is done with the `fisher_exact` function."
      ],
      "metadata": {
        "id": "M-7mUGgTyICc"
      }
    },
    {
      "cell_type": "code",
      "execution_count": null,
      "metadata": {
        "colab": {
          "base_uri": "https://localhost:8080/"
        },
        "id": "pob67ISDcy7j",
        "outputId": "9f4920d4-4be9-4cea-ce18-514b2fcd407b"
      },
      "outputs": [
        {
          "output_type": "stream",
          "name": "stdout",
          "text": [
            "Fisher exact test\n",
            "love: odds ratio = 0.730 (1.000)\n",
            "\n",
            "Not significant at 1% level\n"
          ]
        }
      ],
      "source": [
        "oddsratio, pval = stats.fisher_exact(table,alternative='two-sided')\n",
        "\n",
        "print('Fisher exact test')\n",
        "print(f\"{keyword}: odds ratio = {oddsratio:.3f} ({pval:.3f})\\n\")\n",
        "alpha = 0.01  #significance level\n",
        "if pval <=alpha:\n",
        "  print(\"Significant at 1% level\")\n",
        "else:\n",
        "  print(\"Not significant at 1% level\")"
      ]
    },
    {
      "cell_type": "markdown",
      "source": [
        "# Correlation Coefficient\n",
        "\n",
        "We will look at the correlation of  sentiment with like count for a single user."
      ],
      "metadata": {
        "id": "2fgpd0u-y-tE"
      }
    },
    {
      "cell_type": "code",
      "execution_count": null,
      "metadata": {
        "id": "CXSRhcyUUug5"
      },
      "outputs": [],
      "source": [
        "screen_name = 'AOC'\n",
        "df_u = df_all[df_all.screen_name==screen_name].copy()"
      ]
    },
    {
      "cell_type": "markdown",
      "source": [
        "## Pearson Correlation Coefficient\n",
        "\n",
        " We apply the `pearsonr` function to the like_count and sentiment columns of the dataframe.  The function returns the Pearson correlation coefficient `cc` and the p-value `pval`.  "
      ],
      "metadata": {
        "id": "6kIV5NWnzO_G"
      }
    },
    {
      "cell_type": "code",
      "source": [
        "alpha = 0.01\n",
        "cc,pval = stats.pearsonr(df_u.sentiment, df_u.like_count)\n",
        "\n",
        "print(f\"Pearson corr of sentiment and retweet count = {cc:.3f} ({pval:.3f})\")\n",
        "if pval <=alpha:\n",
        "  print(\"Significant at 1% level\")\n",
        "else:\n",
        "  print(\"Not significant at 1% level\")"
      ],
      "metadata": {
        "colab": {
          "base_uri": "https://localhost:8080/"
        },
        "id": "FRV-Pvt_zxxU",
        "outputId": "5f29c35c-5059-48ec-8cef-36f95d295ad9"
      },
      "execution_count": null,
      "outputs": [
        {
          "output_type": "stream",
          "name": "stdout",
          "text": [
            "Pearson corr of sentiment and retweet count = -0.040 (0.183)\n",
            "Not significant at 1% level\n"
          ]
        }
      ]
    },
    {
      "cell_type": "markdown",
      "source": [
        "## Spearman Rank Correlation Coefficient\n",
        "\n",
        "Spearman's rank correlation coefficient is a non-parametric correlation coefficient that is less susceptible to outliers because it considers the rank of the data, not its values."
      ],
      "metadata": {
        "id": "HvTCSQOj0Qav"
      }
    },
    {
      "cell_type": "code",
      "source": [
        "alpha = 0.01\n",
        "cc,pval = stats.spearmanr(df_u.sentiment, df_u.like_count)\n",
        "\n",
        "print(f\"Spearman corr of sentiment and retweet count = {cc:.3f} ({pval:.3f})\")\n",
        "if pval <=alpha:\n",
        "  print(\"Significant at 1% level\")\n",
        "else:\n",
        "  print(\"Not significant at 1% level\")"
      ],
      "metadata": {
        "colab": {
          "base_uri": "https://localhost:8080/"
        },
        "id": "4yMn0TH10fIJ",
        "outputId": "00333aba-5ea3-4b5e-a4a0-fc27dc0d6090"
      },
      "execution_count": null,
      "outputs": [
        {
          "output_type": "stream",
          "name": "stdout",
          "text": [
            "Spearman corr of sentiment and retweet count = 0.070 (0.020)\n",
            "Not significant at 1% level\n"
          ]
        }
      ]
    },
    {
      "cell_type": "markdown",
      "source": [
        "# Follower Engagement\n",
        "\n",
        "Define follower engagement of a tweet as its retweet count divided by follower count.  This measures what fraction of a user's followers retweet their tweet.  We will compare the follower engagement for a pair of users."
      ],
      "metadata": {
        "id": "RqfP49qX1Ef0"
      }
    },
    {
      "cell_type": "markdown",
      "source": [
        "## Load user profiles\n",
        "\n",
        "The user profiles are in the table `users` in the file `\"data/lecture_04\"`."
      ],
      "metadata": {
        "id": "gsfIr4fb17XG"
      }
    },
    {
      "cell_type": "code",
      "source": [
        "fname_db = \"data/lecture_04\"  #database filenmae\n",
        "df_users = DB.fetch(table_name=\"users\", path=fname_db)\n",
        "df_users.rename(columns = {'username':'screen_name'}, inplace = True)"
      ],
      "metadata": {
        "id": "_5TaS1F01951"
      },
      "execution_count": null,
      "outputs": []
    },
    {
      "cell_type": "code",
      "source": [
        "df_all.screen_name.unique()"
      ],
      "metadata": {
        "colab": {
          "base_uri": "https://localhost:8080/"
        },
        "id": "htYe8x2h2Y3m",
        "outputId": "dfc34b0f-0320-4dff-dae4-f02fcaf45e63"
      },
      "execution_count": null,
      "outputs": [
        {
          "output_type": "execute_result",
          "data": {
            "text/plain": [
              "array(['elonmusk', 'dogecoin', 'kanyewest', 'KimKardashian',\n",
              "       'MichelleObama', 'BarackObama', 'JBALVIN', nan, 'sanbenito', 'AOC',\n",
              "       'KingJames', 'RashidaTlaib'], dtype=object)"
            ]
          },
          "metadata": {},
          "execution_count": 23
        }
      ]
    },
    {
      "cell_type": "markdown",
      "source": [
        "## Calculate engagement\n",
        "\n",
        "We choose two users with screen names `w0` and `w1`.  Then we calculate their tweet engagement and save the results to a dataframe `df_e`."
      ],
      "metadata": {
        "id": "hqbtWH3v1yjR"
      }
    },
    {
      "cell_type": "code",
      "source": [
        "w0 = \"KimKardashian\"\n",
        "w1 = \"kanyewest\"\n",
        "screen_names = [w0,w1]\n",
        "Engagements = []\n",
        "for screen_name in screen_names:\n",
        "  f = df_users.followers_count[df_users.screen_name == screen_name]\n",
        "  df_u  = df_all[df_all.screen_name==screen_name].copy()\n",
        "  e = df_u.retweet_count/float(f)\n",
        "  Engagements.append(e.tolist())\n",
        "df_e = pd.DataFrame({'screen_name':screen_names, 'engagement':Engagements})\n"
      ],
      "metadata": {
        "id": "RnT719TQ0pUj"
      },
      "execution_count": null,
      "outputs": []
    },
    {
      "cell_type": "markdown",
      "source": [
        "## T-test for engagement"
      ],
      "metadata": {
        "id": "3TzYZGl-27dY"
      }
    },
    {
      "cell_type": "code",
      "source": [
        "X0 = df_e.engagement[df_e.screen_name==w0].values[0]\n",
        "X1 = df_e.engagement[df_e.screen_name==w1].values[0]\n",
        "\n",
        "mu0 = np.mean(X0)\n",
        "mu1 = np.mean(X1)\n",
        "\n",
        "alpha = 0.01  #significance level\n",
        "tstat, pval =stats.ttest_ind(X0,X1, equal_var = False)\n",
        "\n",
        "print(f\"Screen name\\tMean engagement\")\n",
        "print(f\"{w0}\\t{mu0:e}\")\n",
        "print(f\"{w1}\\t{mu1:e}\")\n",
        "\n",
        "print(f\"{w0} vs {w1}: t-stat = {tstat:.3f} ({pval:.4f})\\n\")\n",
        "if pval <=alpha:\n",
        "  print(\"Significant at 1% level\")\n",
        "else:\n",
        "  print(\"Not significant at 1% level\")"
      ],
      "metadata": {
        "colab": {
          "base_uri": "https://localhost:8080/"
        },
        "id": "PnsZw6Nv23zX",
        "outputId": "84a880fe-0bcb-4e0b-8d46-6b499fdd215d"
      },
      "execution_count": null,
      "outputs": [
        {
          "output_type": "stream",
          "name": "stdout",
          "text": [
            "Screen name\tMean engagement\n",
            "KimKardashian\t1.229807e-05\n",
            "kanyewest\t1.916774e-04\n",
            "KimKardashian vs kanyewest: t-stat = -9.640 (0.0000)\n",
            "\n",
            "Significant at 1% level\n"
          ]
        }
      ]
    },
    {
      "cell_type": "markdown",
      "source": [
        "# Tweet Time\n",
        "\n",
        "We will study how the timing of a tweet affects like counts for a user"
      ],
      "metadata": {
        "id": "xq1N5WuL3lKo"
      }
    },
    {
      "cell_type": "markdown",
      "source": [
        "## Load data"
      ],
      "metadata": {
        "id": "rfv6nd-L3sze"
      }
    },
    {
      "cell_type": "code",
      "source": [
        "screen_name = 'AOC'\n",
        "df_u = df_all[df_all.screen_name==screen_name].copy()"
      ],
      "metadata": {
        "id": "kSZlUwxI3OpG"
      },
      "execution_count": null,
      "outputs": []
    },
    {
      "cell_type": "markdown",
      "source": [
        "## Plot like count vs. hour"
      ],
      "metadata": {
        "id": "YPSSvie-3zmT"
      }
    },
    {
      "cell_type": "code",
      "source": [
        "fig = plt.figure(figsize =(24,8))\n",
        "sns.barplot(data =df_u , x = 'hour', \n",
        "            y = 'retweet_count', \n",
        "            errorbar=('ci', 95))\n",
        "plt.xlabel(\"Hour [GMT]\", fontsize = 20)\n",
        "plt.ylabel(\"Mean retweet count\", fontsize = 20)\n",
        "plt.title(f\"{screen_name}\", fontsize = 24)\n",
        "plt.xticks(fontsize = 18)\n",
        "plt.yticks(fontsize = 18)\n",
        "plt.grid()\n",
        "plt.show()"
      ],
      "metadata": {
        "colab": {
          "base_uri": "https://localhost:8080/",
          "height": 501
        },
        "id": "OsxiBOUA33B9",
        "outputId": "cdd1f02c-ef7a-47a1-f8c0-72aa3656dde2"
      },
      "execution_count": null,
      "outputs": [
        {
          "output_type": "display_data",
          "data": {
            "text/plain": [
              "<Figure size 1728x576 with 1 Axes>"
            ],
            "image/png": "[encoded data removed]"
          },
          "metadata": {
            "needs_background": "light"
          }
        }
      ]
    },
    {
      "cell_type": "markdown",
      "source": [
        "## T-test for hours\n",
        "\n",
        "We select two hours and compare the retweet counts using a t-test"
      ],
      "metadata": {
        "id": "SusFZzoi3_KP"
      }
    },
    {
      "cell_type": "code",
      "source": [
        "w0 = 15\n",
        "w1 = 3\n",
        "X0 = df_u.retweet_count[df_u.hour==w0]\n",
        "X1 = df_u.retweet_count[df_u.hour==w1]\n",
        "mu0 = np.mean(X0)\n",
        "mu1 = np.mean(X1)\n",
        "(tstat, pval) =stats.ttest_ind(X0,X1, equal_var = False)\n",
        "\n",
        "print(f\"Hour [GMT]\\tMean retweet count\")\n",
        "print(f\"{w0}\\t{mu0:.2f}\")\n",
        "print(f\"{w1}\\t{mu1:.2f}\")\n",
        "print(f\"{w0} vs {w1}: t-stat = {tstat:.3f} ({pval:.4f})\\n\")\n",
        "alpha = 0.01  #significance level\n",
        "if pval <=alpha:\n",
        "  print(\"Significant at 1% level\")\n",
        "else:\n",
        "  print(\"Not significant at 1% level\")"
      ],
      "metadata": {
        "colab": {
          "base_uri": "https://localhost:8080/"
        },
        "id": "7OTAN4rz4FbR",
        "outputId": "4873345b-1fae-4144-c5ab-7b438c748940"
      },
      "execution_count": null,
      "outputs": [
        {
          "output_type": "stream",
          "name": "stdout",
          "text": [
            "Hour [GMT]\tMean retweet count\n",
            "15\t3866.69\n",
            "3\t4641.55\n",
            "15 vs 3: t-stat = -0.594 (0.5543)\n",
            "\n",
            "Not significant at 1% level\n"
          ]
        }
      ]
    },
    {
      "cell_type": "markdown",
      "source": [
        "## T-test for day vs night\n",
        "\n",
        "We can choose a range of hours to compare daytime and nighttime tweets' retweet counts."
      ],
      "metadata": {
        "id": "wzlpN5yo5aPX"
      }
    },
    {
      "cell_type": "code",
      "source": [
        "#daytime\n",
        "X0 = df_u.retweet_count[(12<=df_u.hour) & (df_u.hour<23)]\n",
        "#nighttime\n",
        "X1 = df_u.retweet_count[(0<=df_u.hour) & (df_u.hour<12)]\n",
        "\n",
        "mu0 = np.mean(X0)\n",
        "mu1 = np.mean(X1)\n",
        "(tstat, pval) =stats.ttest_ind(X0,X1, equal_var = False)\n",
        "\n",
        "print(f\"Hour [GMT]\\tMean retweet count\")\n",
        "print(f\"Day\\t{mu0:.2f}\")\n",
        "print(f\"Night\\t{mu1:.2f}\")\n",
        "print(f\"{w0} vs {w1}: t-stat = {tstat:.3f} ({pval:.4f})\\n\")\n",
        "alpha = 0.01  #significance level\n",
        "if pval <=alpha:\n",
        "  print(\"Significant at 1% level\")\n",
        "else:\n",
        "  print(\"Not significant at 1% level\")"
      ],
      "metadata": {
        "colab": {
          "base_uri": "https://localhost:8080/"
        },
        "id": "65o5z3zt4NC_",
        "outputId": "3118baac-d517-4072-c59e-2011da679a46"
      },
      "execution_count": null,
      "outputs": [
        {
          "output_type": "stream",
          "name": "stdout",
          "text": [
            "Hour [GMT]\tMean retweet count\n",
            "Day\t3916.28\n",
            "Night\t4598.05\n",
            "15 vs 3: t-stat = -1.374 (0.1701)\n",
            "\n",
            "Not significant at 1% level\n"
          ]
        }
      ]
    }
  ],
  "metadata": {
    "colab": {
      "provenance": [],
      "toc_visible": true
    },
    "kernelspec": {
      "display_name": "Python 3",
      "language": "python",
      "name": "python3"
    },
    "language_info": {
      "codemirror_mode": {
        "name": "ipython",
        "version": 3
      },
      "file_extension": ".py",
      "mimetype": "text/x-python",
      "name": "python",
      "nbconvert_exporter": "python",
      "pygments_lexer": "ipython3",
      "version": "3.7.2"
    }
  },
  "nbformat": 4,
  "nbformat_minor": 0
}