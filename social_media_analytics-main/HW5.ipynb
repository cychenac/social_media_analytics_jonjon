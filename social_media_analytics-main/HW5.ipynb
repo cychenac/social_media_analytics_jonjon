{
 "cells": [
  {
   "cell_type": "markdown",
   "metadata": {
    "id": "cebGsdFXLGiP"
   },
   "source": [
    "# Homework 5\n",
    "\n",
    "This notebook provides some skeleton code to get you started on the homework. Add in your own code and markdown cells to answer the homework questions. If you want to submit the notebook as a PDF, make sure your code and markdowns are clear and concise to make grading easy for the TAs.\n",
    "\n",
    "This notebook can be opened in Colab \n",
    "\n",
    "[![Open In Colab](https://colab.research.google.com/assets/colab-badge.svg)](https://colab.research.google.com/github/zlisto/social_media_analytics/blob/main/HW5.ipynb)\n",
    "\n",
    "\n",
    "Before starting, select \"Runtime->Factory reset runtime\" to start with your directories and environment in the base state.\n",
    "\n",
    "If you want to save changes to the notebook, select \"File->Save a copy in Drive\" from the top menu in Colab. This will save the notebook in your Google Drive.\n",
    "\n",
    "For all plots, make sure your axes have nice labels with easy to read fontsizes, otherwise points will be deducted."
   ]
  },
  {
   "cell_type": "markdown",
   "metadata": {
    "id": "CJGw0AHqLGiT"
   },
   "source": [
    "# Clones, Installs, and Imports\n"
   ]
  },
  {
   "cell_type": "markdown",
   "metadata": {
    "id": "wK4KpbjrLGiU"
   },
   "source": [
    "## Clone GitHub Repository\n",
    "This will clone the repository to your machine. This includes the code and data files. Then change into the directory of the repository."
   ]
  },
  {
   "cell_type": "code",
   "execution_count": null,
   "metadata": {
    "id": "lEiAkg1tLGiV"
   },
   "outputs": [],
   "source": []
  },
  {
   "cell_type": "markdown",
   "metadata": {
    "id": "15s1AhGULGiW"
   },
   "source": [
    "## Install Packages\n"
   ]
  },
  {
   "cell_type": "code",
   "execution_count": null,
   "metadata": {
    "id": "3DA5Qlc0LGiW"
   },
   "outputs": [],
   "source": []
  },
  {
   "cell_type": "markdown",
   "metadata": {
    "id": "ePMZeKhzLGiX"
   },
   "source": [
    "## Import Packages\n"
   ]
  },
  {
   "cell_type": "code",
   "execution_count": null,
   "metadata": {
    "id": "uAB-yIK2LGiY"
   },
   "outputs": [],
   "source": [
    "\n",
    "\n"
   ]
  },
  {
   "cell_type": "markdown",
   "metadata": {
    "id": "y308hx-sLGiZ"
   },
   "source": [
    "# Problem 1. Analyzing a Follower Network with Centralities (52 pts) \n",
    "\n",
    "We will be studying the follower network of a set of Twitter users. The nodes in the network are the Twitter users and the edges represent a following relationship. For instance, if @KimKardashian follows @kanyewest, this creates a directed edge pointing from @kanyewest to @KimKardashian."
   ]
  },
  {
   "cell_type": "markdown",
   "metadata": {
    "id": "WqM0ZqfzLGiZ"
   },
   "source": [
    "## 1. (2 points) Load Network\n",
    "\n",
    "Load the following network in the file `\"data/friends_network_realDonaldTrump.pickle\"`. This is the follower network of all the people followed by former President Donald Trump.  "
   ]
  },
  {
   "cell_type": "code",
   "execution_count": null,
   "metadata": {
    "id": "UUgBpt2ALGia"
   },
   "outputs": [],
   "source": [
    "\n"
   ]
  },
  {
   "cell_type": "markdown",
   "metadata": {
    "id": "-KdMqjX-LGia"
   },
   "source": [
    "## 2. (2 points) Nodes and Edges\n",
    "\n",
    "How many edges and nodes in the network?"
   ]
  },
  {
   "cell_type": "code",
   "execution_count": null,
   "metadata": {
    "id": "HPgMLjZXLGia"
   },
   "outputs": [],
   "source": []
  },
  {
   "cell_type": "markdown",
   "metadata": {
    "id": "NmjjM2-ZLGib"
   },
   "source": [
    "## 3. (8 points)  Out-degree Centrality\n",
    "\n",
    "List the nodes with the five highest out-degree centralities and the corresponding value.\n",
    "\n",
    "\n"
   ]
  },
  {
   "cell_type": "code",
   "execution_count": null,
   "metadata": {
    "id": "P6lTvm5XLGib"
   },
   "outputs": [],
   "source": [
    "\n"
   ]
  },
  {
   "cell_type": "markdown",
   "metadata": {
    "id": "cBu5Ls4GLGic"
   },
   "source": [
    "## 4. (8 points) Closeness Centrality\n",
    "List the nodes with the five highest closeness centralities and the corresponding value  (make sure you reverse the edges in the network).\n",
    "\n"
   ]
  },
  {
   "cell_type": "code",
   "execution_count": null,
   "metadata": {
    "id": "W6lKHss2LGic"
   },
   "outputs": [],
   "source": []
  },
  {
   "cell_type": "markdown",
   "metadata": {
    "id": "pcNKvsXGLGic"
   },
   "source": [
    "## 5. (8 points) Betweenness Centrality\n",
    "List the five nodes with the highest betweenness centrality and the corresponding value.  Make sure you make the network undirected."
   ]
  },
  {
   "cell_type": "code",
   "execution_count": null,
   "metadata": {
    "id": "lwLSvoumLGid"
   },
   "outputs": [],
   "source": []
  },
  {
   "cell_type": "markdown",
   "metadata": {
    "id": "xMdzMU6PLGid"
   },
   "source": [
    "## 6. (8 points) Eigenvector Centrality\n",
    "List the nodes with the five highest eigenvector centralities and the corresponding value (make sure you reverse the edges in the network)."
   ]
  },
  {
   "cell_type": "code",
   "execution_count": null,
   "metadata": {
    "id": "-xTaMIzfLGid"
   },
   "outputs": [],
   "source": []
  },
  {
   "cell_type": "markdown",
   "metadata": {
    "id": "Zs0fUhdOLGie"
   },
   "source": [
    "## 7. (10 points)  Barplots\n",
    "Make  barplots of each of the four centralities you calculated in the previous parts.  Plot the top five highest values for each centrality.  The barplots should be in a  2 x 2 subplot arrangement."
   ]
  },
  {
   "cell_type": "code",
   "execution_count": null,
   "metadata": {
    "id": "0EKHWQXzLGie"
   },
   "outputs": [],
   "source": []
  },
  {
   "cell_type": "markdown",
   "metadata": {
    "id": "Qepq3dn6LGie"
   },
   "source": [
    "## 7. (6 points) Qualitative Network Analysis\n",
    "Write a few sentences explaining who the important people are in the network based on your centrality analysis and why they have such a central position in the network.  Imagine you are explaining this  to someone unfamiliar with the individuals in the network.  You may find it useful to lookup who the individuals in the network are."
   ]
  },
  {
   "cell_type": "markdown",
   "metadata": {
    "id": "9Mk3q-ePLGif"
   },
   "source": []
  },
  {
   "cell_type": "markdown",
   "metadata": {
    "id": "eYPruCi_LGif"
   },
   "source": [
    "# Problem 2. Finding Rumor Sources (50 pts)\n",
    "\n",
    "We are going to look at the social network of a rumor spreading. The nodes are people that heard the rumor, and the edges represent communication channels (the rumor can only be spread along communication channels).  We do not know who started the rumor, and we do not know which way the rumor spread along the edges.  We are going to use centralities to find the source of the rumor."
   ]
  },
  {
   "cell_type": "markdown",
   "metadata": {
    "id": "gUE2309sLGif"
   },
   "source": [
    "## 1. (4 points) Load Network\n",
    "\n",
    "Load the following network in the file `\"data/rumor.pickle\"`.  Is the network directed or undirected?  Print your answer."
   ]
  },
  {
   "cell_type": "code",
   "execution_count": null,
   "metadata": {
    "id": "DyQQ8VRULGif"
   },
   "outputs": [],
   "source": []
  },
  {
   "cell_type": "markdown",
   "metadata": {
    "id": "sOC3mFwULGif"
   },
   "source": [
    "## 2. (8 points) Degree Centrality\n",
    "\n",
    "Find the degree centrality of each node. Assuming the this centrality tells us how likely someone is to be the source, who are your top three most likely suspects for the rumor source (if there is a tie, break it using your own judgment)?"
   ]
  },
  {
   "cell_type": "code",
   "execution_count": null,
   "metadata": {
    "id": "wlVQc89HLGif"
   },
   "outputs": [],
   "source": [
    "\n"
   ]
  },
  {
   "cell_type": "markdown",
   "metadata": {
    "id": "QGk3xxHrLGig"
   },
   "source": [
    "## 3. (8 points) Closeness Centrality\n",
    "Find the closeness centrality of each node. Assuming this centrality tells us how likely someone is to be the source, who are your top three most likely suspects for the rumor source (if there is a tie, break it using your own judgment)."
   ]
  },
  {
   "cell_type": "code",
   "execution_count": null,
   "metadata": {
    "id": "VTci0vgmLGig"
   },
   "outputs": [],
   "source": []
  },
  {
   "cell_type": "markdown",
   "metadata": {
    "id": "_McSH6pbLGih"
   },
   "source": [
    "## 4. (8 points) Betweenness Centrality\n",
    "Find the betweenness centrality of each node. Assuming this centrality tells us how likely someone is to be the source, who are your top three most likely suspects for the rumor source (if there is a tie, break it using your own judgment)."
   ]
  },
  {
   "cell_type": "code",
   "execution_count": null,
   "metadata": {
    "id": "ahH5MVVdLGih"
   },
   "outputs": [],
   "source": []
  },
  {
   "cell_type": "markdown",
   "metadata": {
    "id": "oR0kKFG9LGih"
   },
   "source": [
    "## 5. (8 points) Eigenvector Centrality\n",
    "\n",
    "Find the eigenvector centrality of each node. Assuming this centrality tells us how likely someone is to be the source, who are your top three most likely suspects for the rumor source (if there is a tie, break it using your own judgment)?"
   ]
  },
  {
   "cell_type": "code",
   "execution_count": null,
   "metadata": {
    "id": "rYDHu3muLGih"
   },
   "outputs": [],
   "source": []
  },
  {
   "cell_type": "markdown",
   "metadata": {
    "id": "PTwa4AWrLGii"
   },
   "source": [
    "## 6. (2 points) Find the Source\n",
    "\n",
    "The actual source is Tulip’s mom. Which centralities predicted this? \n",
    "\n"
   ]
  },
  {
   "cell_type": "markdown",
   "metadata": {
    "id": "1YI0EBwkLGii"
   },
   "source": []
  },
  {
   "cell_type": "markdown",
   "metadata": {
    "id": "mNtZeOE6LGii"
   },
   "source": [
    "## 7. (2 points) Worst Centrality\n",
    "Which single centrality did the worst in predicting the true rumor source (i.e. which one did not rank the true source high)? "
   ]
  },
  {
   "cell_type": "markdown",
   "metadata": {
    "id": "Ppr8zOvWLGii"
   },
   "source": []
  },
  {
   "cell_type": "markdown",
   "metadata": {
    "id": "oDLidgZoLGii"
   },
   "source": [
    "## 8. (10 pts) Visualize Network\n",
    "Draw the network, and make the node size proportional to betweenness centrality.  Show the node labels as well so we can tell who is a likely suspect."
   ]
  },
  {
   "cell_type": "code",
   "execution_count": null,
   "metadata": {
    "executionInfo": {
     "elapsed": 8,
     "status": "ok",
     "timestamp": 1645680509050,
     "user": {
      "displayName": "Tauhid Zaman",
      "photoUrl": "https://lh3.googleusercontent.com/a-/AOh14GidQnmUZhWqGKm0EkPJGymeiKs_-386XpfFQYQzQw=s64",
      "userId": "02209064191632366608"
     },
     "user_tz": 300
    },
    "id": "obrIGli-LGii"
   },
   "outputs": [],
   "source": []
  }
 ],
 "metadata": {
  "colab": {
   "collapsed_sections": [],
   "name": "HW5.ipynb",
   "provenance": [
    {
     "file_id": "1cRAPvc-QA_B3pMtVbA1l2qB7y-xng7bj",
     "timestamp": 1645680388399
    }
   ],
   "toc_visible": true
  },
  "kernelspec": {
   "display_name": "Python 3 (ipykernel)",
   "language": "python",
   "name": "python3"
  },
  "language_info": {
   "codemirror_mode": {
    "name": "ipython",
    "version": 3
   },
   "file_extension": ".py",
   "mimetype": "text/x-python",
   "name": "python",
   "nbconvert_exporter": "python",
   "pygments_lexer": "ipython3",
   "version": "3.9.13"
  }
 },
 "nbformat": 4,
 "nbformat_minor": 1
}
